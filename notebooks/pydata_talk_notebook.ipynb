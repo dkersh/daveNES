{
 "cells": [
  {
   "cell_type": "code",
   "execution_count": 1,
   "metadata": {},
   "outputs": [
    {
     "name": "stdout",
     "output_type": "stream",
     "text": [
      "pygame 2.5.0 (SDL 2.28.0, Python 3.10.8)\n",
      "Hello from the pygame community. https://www.pygame.org/contribute.html\n"
     ]
    }
   ],
   "source": [
    "import numpy as np\n",
    "import sys\n",
    "\n",
    "sys.path.append('../src')\n",
    "\n",
    "import cpu\n",
    "import program\n",
    "import importlib\n",
    "cpu = importlib.reload(cpu)\n",
    "program = importlib.reload(program)\n",
    "\n",
    "p_snake = program.Program.from_file('../programs/snake_game.txt')\n",
    "p_talk = program.Program.from_array(np.array(['A9', '0A', '8D', '2C', '01', 'A9', '03', '8D', '2D', '01', 'A9', '23', '8D', '2E', '01']))"
   ]
  },
  {
   "cell_type": "markdown",
   "metadata": {},
   "source": [
    "# Basic Program Example"
   ]
  },
  {
   "cell_type": "code",
   "execution_count": null,
   "metadata": {},
   "outputs": [],
   "source": [
    "daveNES = cpu.MOS6502()\n",
    "daveNES.connect_to_bus()"
   ]
  },
  {
   "cell_type": "code",
   "execution_count": null,
   "metadata": {},
   "outputs": [],
   "source": [
    "daveNES.load_program(p_talk)\n",
    "daveNES.reset()"
   ]
  },
  {
   "cell_type": "code",
   "execution_count": null,
   "metadata": {},
   "outputs": [],
   "source": [
    "daveNES.run_program()\n",
    "daveNES.reset()"
   ]
  },
  {
   "cell_type": "code",
   "execution_count": null,
   "metadata": {},
   "outputs": [],
   "source": [
    "daveNES.bus.wram.memory[0x012c], daveNES.bus.wram.memory[0x012d], daveNES.bus.wram.memory[0x012e]"
   ]
  },
  {
   "cell_type": "markdown",
   "metadata": {},
   "source": [
    "# Snake game Example"
   ]
  },
  {
   "cell_type": "code",
   "execution_count": 2,
   "metadata": {},
   "outputs": [],
   "source": [
    "daveNES = cpu.MOS6502()\n",
    "daveNES.connect_to_bus()"
   ]
  },
  {
   "cell_type": "code",
   "execution_count": 3,
   "metadata": {},
   "outputs": [],
   "source": [
    "daveNES.load_program(p_snake)\n",
    "daveNES.reset()"
   ]
  },
  {
   "cell_type": "code",
   "execution_count": 4,
   "metadata": {},
   "outputs": [
    {
     "name": "stderr",
     "output_type": "stream",
     "text": [
      "/Users/davidkersh/Documents/Other_Work/Coding/daveNES/notebooks/../src/cpu/opcodes.py:301: RuntimeWarning: overflow encountered in scalar subtract\n",
      "  result = np.uint8(self.cpu.r_accumulator) - value\n",
      "/Users/davidkersh/Documents/Other_Work/Coding/daveNES/notebooks/../src/cpu/opcodes.py:338: RuntimeWarning: overflow encountered in scalar subtract\n",
      "  self.cpu.r_index_X -= np.uint8(1)\n"
     ]
    },
    {
     "name": "stdout",
     "output_type": "stream",
     "text": [
      "UP PRESSED\n",
      "RIGHT PRESSED\n",
      "UP PRESSED\n",
      "RIGHT PRESSED\n",
      "DOWN PRESSED\n"
     ]
    },
    {
     "name": "stderr",
     "output_type": "stream",
     "text": [
      "/Users/davidkersh/Documents/Other_Work/Coding/daveNES/notebooks/../src/cpu/opcodes.py:313: RuntimeWarning: overflow encountered in scalar subtract\n",
      "  result = np.uint8(self.cpu.r_index_X) - value\n"
     ]
    },
    {
     "name": "stdout",
     "output_type": "stream",
     "text": [
      "LEFT PRESSED\n",
      "DOWN PRESSED\n",
      "RIGHT PRESSED\n",
      "DOWN PRESSED\n",
      "LEFT PRESSED\n",
      "UP PRESSED\n",
      "RIGHT PRESSED\n",
      "UP PRESSED\n",
      "BREAK\n"
     ]
    }
   ],
   "source": [
    "daveNES.run_program()\n",
    "daveNES.reset()"
   ]
  },
  {
   "cell_type": "code",
   "execution_count": null,
   "metadata": {},
   "outputs": [],
   "source": []
  }
 ],
 "metadata": {
  "kernelspec": {
   "display_name": "py310_davenes",
   "language": "python",
   "name": "python3"
  },
  "language_info": {
   "codemirror_mode": {
    "name": "ipython",
    "version": 3
   },
   "file_extension": ".py",
   "mimetype": "text/x-python",
   "name": "python",
   "nbconvert_exporter": "python",
   "pygments_lexer": "ipython3",
   "version": "3.10.8"
  },
  "orig_nbformat": 4
 },
 "nbformat": 4,
 "nbformat_minor": 2
}
