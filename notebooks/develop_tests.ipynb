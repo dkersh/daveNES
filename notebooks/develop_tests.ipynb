{
 "cells": [
  {
   "cell_type": "code",
   "execution_count": 1,
   "metadata": {},
   "outputs": [],
   "source": [
    "import json\n",
    "import numpy as np\n",
    "\n",
    "with open('C:/Users/David/Documents/Coding/daveNES/tests/ProcessorTests-main/nes6502/v1/0a.json') as f:\n",
    "    test_0a = json.load(f)"
   ]
  },
  {
   "cell_type": "code",
   "execution_count": 13,
   "metadata": {},
   "outputs": [
    {
     "name": "stdout",
     "output_type": "stream",
     "text": [
      "0a 7c e9\n",
      "{'pc': 35162, 's': 95, 'a': 94, 'x': 87, 'y': 102, 'p': 41, 'ram': [[35162, 10], [35163, 124], [35164, 233]]}\n",
      "{'pc': 35163, 's': 95, 'a': 188, 'x': 87, 'y': 102, 'p': 168, 'ram': [[35162, 10], [35163, 124], [35164, 233]]}\n",
      "addr: 0x895a | value: 0x000a | read\n",
      "addr: 0x895b | value: 0x007c | read\n"
     ]
    }
   ],
   "source": [
    "print(test_0a[1]['name'])\n",
    "print(test_0a[1]['initial'])\n",
    "print(test_0a[1]['final'])\n",
    "for l in test_0a[1]['cycles']:\n",
    "    print(f'addr: 0x{l[0]:04x} | value: 0x{l[1]:04x} | {l[2]}')"
   ]
  },
  {
   "cell_type": "code",
   "execution_count": 3,
   "metadata": {},
   "outputs": [
    {
     "name": "stdout",
     "output_type": "stream",
     "text": [
      "pygame 2.3.0 (SDL 2.24.2, Python 3.10.8)\n",
      "Hello from the pygame community. https://www.pygame.org/contribute.html\n"
     ]
    }
   ],
   "source": [
    "import sys\n",
    "sys.path.append('../src')\n",
    "import cpu"
   ]
  },
  {
   "cell_type": "code",
   "execution_count": 16,
   "metadata": {},
   "outputs": [
    {
     "data": {
      "text/plain": [
       "188"
      ]
     },
     "execution_count": 16,
     "metadata": {},
     "output_type": "execute_result"
    }
   ],
   "source": [
    "np.uint8(94 << 1)"
   ]
  },
  {
   "cell_type": "code",
   "execution_count": 4,
   "metadata": {},
   "outputs": [],
   "source": [
    "# Initialise CPU\n",
    "daveNES = cpu.MOS6502(debug = False)\n",
    "daveNES.initialise_RAM()\n",
    "# daveNES.reset()"
   ]
  },
  {
   "cell_type": "code",
   "execution_count": 6,
   "metadata": {},
   "outputs": [
    {
     "name": "stdout",
     "output_type": "stream",
     "text": [
      "23657\n",
      "151\n",
      "160\n",
      "116\n",
      "189\n",
      "0xa, ASL\n",
      "PC: 0x5c69, SP: 0x97, A: 0xa0, X: 0x74, Y: 0xbd, [1, 0, 1, 1, 0, 0, 0, 0]\n",
      "pc: True\n",
      "s: True\n",
      "a: True\n",
      "x: True\n",
      "y: True\n"
     ]
    }
   ],
   "source": [
    "# Load the program\n",
    "for val in test_0a[0]['initial']['ram']:\n",
    "    daveNES.ram.memory[val[0]] = np.uint8(val[1])\n",
    "daveNES.r_program_counter = test_0a[0]['initial']['pc']\n",
    "daveNES.r_stack_pointer = test_0a[0]['initial']['s']\n",
    "daveNES.r_accumulator = test_0a[0]['initial']['a']\n",
    "daveNES.r_index_X = test_0a[0]['initial']['x']\n",
    "daveNES.r_index_Y = test_0a[0]['initial']['y']\n",
    "#daveNES.r_status = daveNES.value_to_status(test_0a[0]['initial']['p'])\n",
    "print(daveNES.r_program_counter)\n",
    "print(daveNES.r_stack_pointer)\n",
    "print(daveNES.r_accumulator)\n",
    "print(daveNES.r_index_X)\n",
    "print(daveNES.r_index_Y)\n",
    "\n",
    "# Run Program\n",
    "daveNES.run_program()\n",
    "\n",
    "# Compare Results\n",
    "print(f\"pc: {test_0a[0]['final']['pc'] == daveNES.r_program_counter}\")\n",
    "print(f\"s: {test_0a[0]['final']['s'] == daveNES.r_stack_pointer}\")\n",
    "print(f\"a: {test_0a[0]['final']['a'] == daveNES.r_accumulator}\")\n",
    "print(f\"x: {test_0a[0]['final']['x'] == daveNES.r_index_X}\")\n",
    "print(f\"y: {test_0a[0]['final']['y'] == daveNES.r_index_Y}\")"
   ]
  },
  {
   "cell_type": "code",
   "execution_count": 8,
   "metadata": {},
   "outputs": [
    {
     "data": {
      "text/plain": [
       "0"
      ]
     },
     "execution_count": 8,
     "metadata": {},
     "output_type": "execute_result"
    }
   ],
   "source": [
    "np.uint8((np.uint8(daveNES.r_accumulator << 1) << 1) << 1)"
   ]
  },
  {
   "cell_type": "code",
   "execution_count": 30,
   "metadata": {},
   "outputs": [
    {
     "data": {
      "text/plain": [
       "64"
      ]
     },
     "execution_count": 30,
     "metadata": {},
     "output_type": "execute_result"
    }
   ],
   "source": [
    "np.uint8(test_0a[0]['initial']['a'] << 1)"
   ]
  },
  {
   "cell_type": "code",
   "execution_count": 7,
   "metadata": {},
   "outputs": [
    {
     "data": {
      "text/plain": [
       "168"
      ]
     },
     "execution_count": 7,
     "metadata": {},
     "output_type": "execute_result"
    }
   ],
   "source": [
    "test_0a[0]['initial']['p']"
   ]
  },
  {
   "cell_type": "code",
   "execution_count": 6,
   "metadata": {},
   "outputs": [
    {
     "name": "stdout",
     "output_type": "stream",
     "text": [
      "23663\n",
      "151\n",
      "128\n",
      "116\n",
      "189\n"
     ]
    }
   ],
   "source": [
    "print(daveNES.r_program_counter)\n",
    "print(daveNES.r_stack_pointer)\n",
    "print(daveNES.r_accumulator)\n",
    "print(daveNES.r_index_X)\n",
    "print(daveNES.r_index_Y)"
   ]
  },
  {
   "cell_type": "code",
   "execution_count": 5,
   "metadata": {},
   "outputs": [
    {
     "name": "stdout",
     "output_type": "stream",
     "text": [
      "{'flag_C': False, 'flag_Z': False, 'flag_I': False, 'flag_D': True, 'flag_B0': False, 'flag_B1': True, 'flag_V': False, 'flag_N': True}\n"
     ]
    }
   ],
   "source": [
    "# Load program into memory\n",
    "daveNES.ram.memory[23657] = 10\n",
    "daveNES.ram.memory[23658] = 10\n",
    "daveNES.ram.memory[23659] = 69\n",
    "\n",
    "daveNES.r_program_counter = 23657\n",
    "daveNES.r_stack_pointer = 151\n",
    "daveNES.r_accumulator = 160\n",
    "daveNES.r_index_X = 116\n",
    "daveNES.r_index_Y = 189\n",
    "daveNES.value_to_status(168)\n",
    "print(daveNES.r_status)"
   ]
  },
  {
   "cell_type": "code",
   "execution_count": 6,
   "metadata": {},
   "outputs": [
    {
     "name": "stdout",
     "output_type": "stream",
     "text": [
      "0xa, ASL\n",
      "PC: 0x5c69, SP: 0x97, A: 0xa0, X: 0x74, Y: 0xbd, [1, 0, 1, 0, 1, 0, 0, 0]\n",
      "0xa, ASL\n",
      "PC: 0x5c6a, SP: 0x97, A: 0x40, X: 0x74, Y: 0xbd, [1, 0, 1, 0, 1, 0, 0, 1]\n",
      "0x45, EOR\n",
      "PC: 0x5c6b, SP: 0x97, A: 0x80, X: 0x74, Y: 0xbd, [0, 0, 1, 0, 1, 0, 0, 0]\n",
      "0\n",
      "0x0, BRK\n",
      "PC: 0x5c6d, SP: 0x97, A: 0x80, X: 0x74, Y: 0xbd, [1, 0, 1, 0, 1, 0, 0, 0]\n",
      "BREAK\n"
     ]
    }
   ],
   "source": [
    "daveNES.run_program()"
   ]
  },
  {
   "cell_type": "code",
   "execution_count": 7,
   "metadata": {},
   "outputs": [
    {
     "name": "stdout",
     "output_type": "stream",
     "text": [
      "pc: 23663 s: 151 a: 128 x: 116 y: 189\n"
     ]
    }
   ],
   "source": [
    "print(\n",
    "    f'pc: {daveNES.r_program_counter}',\n",
    "    f's: {daveNES.r_stack_pointer}',\n",
    "    f'a: {daveNES.r_accumulator}',\n",
    "    f'x: {daveNES.r_index_X}',\n",
    "    f'y: {daveNES.r_index_Y}'\n",
    ")"
   ]
  },
  {
   "cell_type": "code",
   "execution_count": 8,
   "metadata": {},
   "outputs": [
    {
     "name": "stdout",
     "output_type": "stream",
     "text": [
      "pc: 23663 s: 151 a: 128 x: 116 y: 189\n",
      "0x0, BRK\n",
      "PC: 0x5c6f, SP: 0x97, A: 0x80, X: 0x74, Y: 0xbd, [1, 0, 1, 1, 1, 0, 0, 0]\n",
      "BREAK\n",
      "29\n"
     ]
    }
   ],
   "source": [
    "print(\n",
    "    f'pc: {daveNES.r_program_counter}',\n",
    "    f's: {daveNES.r_stack_pointer}',\n",
    "    f'a: {daveNES.r_accumulator}',\n",
    "    f'x: {daveNES.r_index_X}',\n",
    "    f'y: {daveNES.r_index_Y}'\n",
    ")\n",
    "daveNES.step_program()\n",
    "binary_str = ''.join(['1' if daveNES.r_status[k] else '0' for k in daveNES.r_status])\n",
    "print(int(binary_str, 2))"
   ]
  },
  {
   "cell_type": "code",
   "execution_count": 9,
   "metadata": {},
   "outputs": [
    {
     "data": {
      "text/plain": [
       "128"
      ]
     },
     "execution_count": 9,
     "metadata": {},
     "output_type": "execute_result"
    }
   ],
   "source": [
    "0x80"
   ]
  },
  {
   "cell_type": "code",
   "execution_count": null,
   "metadata": {},
   "outputs": [],
   "source": []
  }
 ],
 "metadata": {
  "kernelspec": {
   "display_name": "davenespy310",
   "language": "python",
   "name": "python3"
  },
  "language_info": {
   "codemirror_mode": {
    "name": "ipython",
    "version": 3
   },
   "file_extension": ".py",
   "mimetype": "text/x-python",
   "name": "python",
   "nbconvert_exporter": "python",
   "pygments_lexer": "ipython3",
   "version": "3.10.8"
  },
  "orig_nbformat": 4,
  "vscode": {
   "interpreter": {
    "hash": "e38c9d708ad4e13ce48a5848b9e9f2079bf29403fe5756e7d626cc29b0e14a68"
   }
  }
 },
 "nbformat": 4,
 "nbformat_minor": 2
}
