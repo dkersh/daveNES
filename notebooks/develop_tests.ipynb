{
 "cells": [
  {
   "cell_type": "code",
   "execution_count": 1,
   "metadata": {},
   "outputs": [
    {
     "name": "stdout",
     "output_type": "stream",
     "text": [
      "pygame 2.3.0 (SDL 2.24.2, Python 3.10.8)\n",
      "Hello from the pygame community. https://www.pygame.org/contribute.html\n"
     ]
    }
   ],
   "source": [
    "import json\n",
    "import numpy as np\n",
    "import sys\n",
    "sys.path.append('../src')\n",
    "import cpu\n",
    "\n",
    "# https://github.com/TomHarte/ProcessorTests/tree/main/nes6502\n",
    "\n",
    "with open('C:/Users/David/Documents/Coding/daveNES/tests/ProcessorTests-main/nes6502/v1/e9.json') as f:\n",
    "    test = json.load(f)"
   ]
  },
  {
   "attachments": {},
   "cell_type": "markdown",
   "metadata": {},
   "source": [
    "`! pytest --html=\"report_%date:/=-%_%time::=-%.html\"`"
   ]
  },
  {
   "cell_type": "code",
   "execution_count": 2,
   "metadata": {},
   "outputs": [],
   "source": [
    "subtest = 0"
   ]
  },
  {
   "cell_type": "code",
   "execution_count": 3,
   "metadata": {},
   "outputs": [
    {
     "data": {
      "text/plain": [
       "{'name': 'e9 20 ae',\n",
       " 'initial': {'pc': 60024,\n",
       "  's': 171,\n",
       "  'a': 50,\n",
       "  'x': 168,\n",
       "  'y': 179,\n",
       "  'p': 106,\n",
       "  'ram': [[60024, 233], [60025, 32], [60026, 174]]},\n",
       " 'final': {'pc': 60026,\n",
       "  's': 171,\n",
       "  'a': 17,\n",
       "  'x': 168,\n",
       "  'y': 179,\n",
       "  'p': 41,\n",
       "  'ram': [[60024, 233], [60025, 32], [60026, 174]]},\n",
       " 'cycles': [[60024, 233, 'read'], [60025, 32, 'read']]}"
      ]
     },
     "execution_count": 3,
     "metadata": {},
     "output_type": "execute_result"
    }
   ],
   "source": [
    "test[0]"
   ]
  },
  {
   "cell_type": "code",
   "execution_count": 4,
   "metadata": {},
   "outputs": [
    {
     "data": {
      "text/plain": [
       "[[21626, 233], [21627, 0], [21628, 255]]"
      ]
     },
     "execution_count": 4,
     "metadata": {},
     "output_type": "execute_result"
    }
   ],
   "source": [
    "test[subtest]['initial']['ram']"
   ]
  },
  {
   "cell_type": "code",
   "execution_count": 5,
   "metadata": {},
   "outputs": [],
   "source": [
    "def init_daveNES(test):\n",
    "    daveNES = cpu.MOS6502(debug = False)\n",
    "    daveNES.initialise_RAM()\n",
    "\n",
    "    # Load test program\n",
    "    for val in test['initial']['ram']:\n",
    "        print(f'{val[0]}, {val[1]}')\n",
    "        daveNES.ram.memory[val[0]] = np.uint8(val[1])\n",
    "    daveNES.r_program_counter = test['initial']['pc']\n",
    "    daveNES.r_stack_pointer = test['initial']['s']\n",
    "    daveNES.r_accumulator = test['initial']['a']\n",
    "    daveNES.r_index_X = test['initial']['x']\n",
    "    daveNES.r_index_Y = test['initial']['y']\n",
    "    daveNES.value_to_status(test['initial']['p'])\n",
    "\n",
    "    return daveNES"
   ]
  },
  {
   "cell_type": "code",
   "execution_count": 6,
   "metadata": {},
   "outputs": [
    {
     "name": "stdout",
     "output_type": "stream",
     "text": [
      "21626, 233\n",
      "21627, 0\n",
      "21628, 255\n"
     ]
    }
   ],
   "source": [
    "daveNES = init_daveNES(test[subtest])"
   ]
  },
  {
   "cell_type": "code",
   "execution_count": 7,
   "metadata": {},
   "outputs": [
    {
     "name": "stdout",
     "output_type": "stream",
     "text": [
      "0xe9, SBC\n",
      "PC: 0x547a, SP: 0xa3, A: 0x47, X: 0x4e, Y: 0x7d, [1, 0, 1, 0, 1, 1, 0, 1]\n",
      "SBC performed\n"
     ]
    }
   ],
   "source": [
    "daveNES.step_program()\n",
    "# daveNES.r_status['flag_B1'] = 1"
   ]
  },
  {
   "cell_type": "code",
   "execution_count": 8,
   "metadata": {},
   "outputs": [
    {
     "name": "stderr",
     "output_type": "stream",
     "text": [
      "C:\\Users\\David\\AppData\\Local\\Temp\\ipykernel_15844\\4279766619.py:1: RuntimeWarning: overflow encountered in ubyte_scalars\n",
      "  np.uint8(189) + ~np.uint8(0) + np.uint8(not True) + 1\n"
     ]
    },
    {
     "data": {
      "text/plain": [
       "189"
      ]
     },
     "execution_count": 8,
     "metadata": {},
     "output_type": "execute_result"
    }
   ],
   "source": [
    "np.uint8(189) + ~np.uint8(0) + np.uint8(not True) + 1"
   ]
  },
  {
   "cell_type": "code",
   "execution_count": 9,
   "metadata": {},
   "outputs": [
    {
     "data": {
      "text/plain": [
       "-1"
      ]
     },
     "execution_count": 9,
     "metadata": {},
     "output_type": "execute_result"
    }
   ],
   "source": [
    "~0 + (not True)"
   ]
  },
  {
   "cell_type": "code",
   "execution_count": 10,
   "metadata": {},
   "outputs": [
    {
     "name": "stdout",
     "output_type": "stream",
     "text": [
      "21628 : 21628\n",
      "163 : 163\n",
      "71 : 71\n",
      "78 : 78\n",
      "125 : 125\n",
      "00101101 : 00101101\n"
     ]
    }
   ],
   "source": [
    "print(f'{test[subtest][\"final\"][\"pc\"]} : {daveNES.r_program_counter}')\n",
    "print(f'{test[subtest][\"final\"][\"s\"]} : {daveNES.r_stack_pointer}')\n",
    "print(f'{test[subtest][\"final\"][\"a\"]} : {daveNES.r_accumulator}')\n",
    "print(f'{test[subtest][\"final\"][\"x\"]} : {daveNES.r_index_X}')\n",
    "print(f'{test[subtest][\"final\"][\"y\"]} : {daveNES.r_index_Y}')\n",
    "print(f'{test[subtest][\"final\"][\"p\"]:08b} : {\"\".join(str(int(daveNES.r_status[k])) for k in daveNES.r_status.keys())[::-1]}')"
   ]
  },
  {
   "cell_type": "code",
   "execution_count": 11,
   "metadata": {},
   "outputs": [
    {
     "data": {
      "text/plain": [
       "True"
      ]
     },
     "execution_count": 11,
     "metadata": {},
     "output_type": "execute_result"
    }
   ],
   "source": [
    "daveNES.r_status['flag_C']"
   ]
  },
  {
   "cell_type": "code",
   "execution_count": null,
   "metadata": {},
   "outputs": [],
   "source": []
  },
  {
   "cell_type": "code",
   "execution_count": 12,
   "metadata": {},
   "outputs": [
    {
     "name": "stdout",
     "output_type": "stream",
     "text": [
      "71\n"
     ]
    }
   ],
   "source": [
    "a = daveNES.r_accumulator\n",
    "value = 53\n",
    "print(a)\n",
    "b = 53\n",
    "result = 340"
   ]
  },
  {
   "cell_type": "code",
   "execution_count": 13,
   "metadata": {},
   "outputs": [
    {
     "data": {
      "text/plain": [
       "128"
      ]
     },
     "execution_count": 13,
     "metadata": {},
     "output_type": "execute_result"
    }
   ],
   "source": [
    "(~(value ^ np.uint8(result)) & (137 ^ np.uint8(result))) & 0x80"
   ]
  },
  {
   "attachments": {},
   "cell_type": "markdown",
   "metadata": {},
   "source": [
    "(data ^ result) & (result ^ self.register_a) & 0x80 != 0"
   ]
  },
  {
   "cell_type": "code",
   "execution_count": null,
   "metadata": {},
   "outputs": [],
   "source": []
  }
 ],
 "metadata": {
  "kernelspec": {
   "display_name": "davenespy310",
   "language": "python",
   "name": "python3"
  },
  "language_info": {
   "codemirror_mode": {
    "name": "ipython",
    "version": 3
   },
   "file_extension": ".py",
   "mimetype": "text/x-python",
   "name": "python",
   "nbconvert_exporter": "python",
   "pygments_lexer": "ipython3",
   "version": "3.10.8"
  },
  "orig_nbformat": 4,
  "vscode": {
   "interpreter": {
    "hash": "e38c9d708ad4e13ce48a5848b9e9f2079bf29403fe5756e7d626cc29b0e14a68"
   }
  }
 },
 "nbformat": 4,
 "nbformat_minor": 2
}
