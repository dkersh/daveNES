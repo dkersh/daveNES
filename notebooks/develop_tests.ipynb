{
 "cells": [
  {
   "cell_type": "code",
   "execution_count": 1,
   "metadata": {},
   "outputs": [
    {
     "name": "stdout",
     "output_type": "stream",
     "text": [
      "pygame 2.3.0 (SDL 2.24.2, Python 3.10.8)\n",
      "Hello from the pygame community. https://www.pygame.org/contribute.html\n"
     ]
    }
   ],
   "source": [
    "import json\n",
    "import numpy as np\n",
    "import sys\n",
    "sys.path.append('../src')\n",
    "import cpu\n",
    "\n",
    "with open('C:/Users/David/Documents/Coding/daveNES/tests/ProcessorTests-main/nes6502/v1/75.json') as f:\n",
    "    test = json.load(f)"
   ]
  },
  {
   "cell_type": "code",
   "execution_count": 2,
   "metadata": {},
   "outputs": [],
   "source": [
    "subtest = 2"
   ]
  },
  {
   "cell_type": "code",
   "execution_count": 3,
   "metadata": {},
   "outputs": [
    {
     "data": {
      "text/plain": [
       "[[4100, 117], [4101, 228], [4102, 217], [228, 208], [25, 128]]"
      ]
     },
     "execution_count": 3,
     "metadata": {},
     "output_type": "execute_result"
    }
   ],
   "source": [
    "test[subtest]['initial']['ram']"
   ]
  },
  {
   "cell_type": "code",
   "execution_count": 4,
   "metadata": {},
   "outputs": [],
   "source": [
    "def init_daveNES(test):\n",
    "    daveNES = cpu.MOS6502(debug = False)\n",
    "    daveNES.initialise_RAM()\n",
    "\n",
    "    # Load test program\n",
    "    for val in test['initial']['ram']:\n",
    "        print(f'{val[0]}, {val[1]}')\n",
    "        daveNES.ram.memory[val[0]] = np.uint8(val[1])\n",
    "    daveNES.r_program_counter = test['initial']['pc']\n",
    "    daveNES.r_stack_pointer = test['initial']['s']\n",
    "    daveNES.r_accumulator = test['initial']['a']\n",
    "    daveNES.r_index_X = test['initial']['x']\n",
    "    daveNES.r_index_Y = test['initial']['y']\n",
    "    daveNES.value_to_status(test['initial']['p'])\n",
    "\n",
    "    return daveNES"
   ]
  },
  {
   "cell_type": "code",
   "execution_count": 5,
   "metadata": {},
   "outputs": [
    {
     "name": "stdout",
     "output_type": "stream",
     "text": [
      "4100, 117\n",
      "4101, 228\n",
      "4102, 217\n",
      "228, 208\n",
      "25, 128\n"
     ]
    }
   ],
   "source": [
    "daveNES = init_daveNES(test[subtest])"
   ]
  },
  {
   "cell_type": "code",
   "execution_count": 6,
   "metadata": {},
   "outputs": [
    {
     "name": "stdout",
     "output_type": "stream",
     "text": [
      "170\n"
     ]
    }
   ],
   "source": [
    "pos = daveNES.ram.read(daveNES.r_program_counter)\n",
    "value = (\n",
    "    pos + daveNES.r_index_X\n",
    ")  # Wrapping Add (may throw overflow exception)\n",
    "daveNES.r_program_counter += 1\n",
    "print(value)\n",
    "\n",
    "addr = value\n",
    "value = daveNES.ram.read(addr)\n",
    "\n",
    "a = np.uint16(daveNES.r_accumulator)\n",
    "m = np.uint16(value)\n",
    "c = np.uint16(daveNES.r_status[\"flag_C\"])\n",
    "\n",
    "print(f'{a}, {m}, {c}')\n",
    "\n",
    "result = a + m + c"
   ]
  },
  {
   "cell_type": "code",
   "execution_count": 9,
   "metadata": {},
   "outputs": [
    {
     "name": "stdout",
     "output_type": "stream",
     "text": [
      "0x75, ADC\n",
      "PC: 0x1004, SP: 0x4f, A: 0x70, X: 0x35, Y: 0x32, [1, 1, 1, 0, 0, 1, 1, 0]\n",
      "281\n",
      "112, 0, 0\n"
     ]
    }
   ],
   "source": [
    "daveNES.step_program()"
   ]
  },
  {
   "cell_type": "code",
   "execution_count": 10,
   "metadata": {},
   "outputs": [
    {
     "name": "stdout",
     "output_type": "stream",
     "text": [
      "4102 : 4102\n",
      "79 : 79\n",
      "240 : 112\n",
      "53 : 53\n",
      "50 : 50\n"
     ]
    }
   ],
   "source": [
    "print(f'{test[subtest][\"final\"][\"pc\"]} : {daveNES.r_program_counter}')\n",
    "print(f'{test[subtest][\"final\"][\"s\"]} : {daveNES.r_stack_pointer}')\n",
    "print(f'{test[subtest][\"final\"][\"a\"]} : {daveNES.r_accumulator}')\n",
    "print(f'{test[subtest][\"final\"][\"x\"]} : {daveNES.r_index_X}')\n",
    "print(f'{test[subtest][\"final\"][\"y\"]} : {daveNES.r_index_Y}')"
   ]
  },
  {
   "cell_type": "code",
   "execution_count": 11,
   "metadata": {},
   "outputs": [
    {
     "name": "stdout",
     "output_type": "stream",
     "text": [
      "ptr: 53\n",
      "addr: 0\n",
      "112\n"
     ]
    }
   ],
   "source": [
    "# Indirect X addressing mode\n",
    "daveNES.r_program_counter = test[0]['initial']['pc']\n",
    "base = daveNES.ram.read(daveNES.r_program_counter)\n",
    "daveNES.r_program_counter += 1\n",
    "ptr = np.uint8(base) + np.uint8(daveNES.r_index_X) # Wrapping Add (may throw overflow exception)\n",
    "print(f'ptr: {ptr}')\n",
    "lo = daveNES.ram.read(ptr.astype(np.uint16))\n",
    "hi = daveNES.ram.read(\n",
    "    (ptr + np.uint8(1)).astype(np.uint16)\n",
    ")  # Wrapping Add (may throw overflow exception)\n",
    "addr = np.uint16(hi) << 8 | np.uint16(lo)\n",
    "\n",
    "print(f'addr: {addr}')\n",
    "\n",
    "#addr = np.uint16(30951) # This seems to be the issue, we want to point to 30951 as a np.uint16\n",
    "value = daveNES.ram.read(addr)\n",
    "\n",
    "a = np.uint16(daveNES.r_accumulator)\n",
    "m = np.uint16(value)\n",
    "c = np.uint16(daveNES.r_status[\"flag_C\"])\n",
    "\n",
    "result = a + m + c\n",
    "\n",
    "print(np.uint8(result))"
   ]
  },
  {
   "cell_type": "code",
   "execution_count": 6,
   "metadata": {},
   "outputs": [
    {
     "name": "stdout",
     "output_type": "stream",
     "text": [
      "base: 144\n",
      "ptr: 27\n"
     ]
    },
    {
     "name": "stderr",
     "output_type": "stream",
     "text": [
      "C:\\Users\\David\\AppData\\Local\\Temp\\ipykernel_16108\\3472765775.py:5: RuntimeWarning: overflow encountered in ubyte_scalars\n",
      "  ptr = base + np.uint8(daveNES.r_index_X)\n"
     ]
    }
   ],
   "source": [
    "pc = test[0]['initial']['pc'] + 1\n",
    "base = daveNES.ram.read(pc)\n",
    "pc += 1\n",
    "print(f'base: {base}')\n",
    "ptr = base + np.uint8(daveNES.r_index_X)\n",
    "print(f'ptr: {ptr}')\n",
    "#daveNES.ram.read(base + daveNES.r_index_X + np.uint8(1))\n",
    "\n",
    "# target_number is 30951"
   ]
  },
  {
   "cell_type": "code",
   "execution_count": 9,
   "metadata": {},
   "outputs": [
    {
     "data": {
      "text/plain": [
       "30951"
      ]
     },
     "execution_count": 9,
     "metadata": {},
     "output_type": "execute_result"
    }
   ],
   "source": [
    "daveNES.ram.read((ptr + 1)) << 8 | daveNES.ram.read((ptr))"
   ]
  },
  {
   "cell_type": "code",
   "execution_count": 10,
   "metadata": {},
   "outputs": [
    {
     "data": {
      "text/plain": [
       "0"
      ]
     },
     "execution_count": 10,
     "metadata": {},
     "output_type": "execute_result"
    }
   ],
   "source": [
    "daveNES.ram.read(np.uint16(ptr + np.uint8(1))) &0x00FF << 8"
   ]
  },
  {
   "cell_type": "code",
   "execution_count": 95,
   "metadata": {},
   "outputs": [
    {
     "data": {
      "text/plain": [
       "231"
      ]
     },
     "execution_count": 95,
     "metadata": {},
     "output_type": "execute_result"
    }
   ],
   "source": [
    "daveNES.ram.read(np.uint16(ptr) & 0x00FF)"
   ]
  },
  {
   "cell_type": "code",
   "execution_count": 7,
   "metadata": {},
   "outputs": [
    {
     "name": "stdout",
     "output_type": "stream",
     "text": [
      "24475 : 24475\n",
      "48 : 48\n",
      "73 : 73\n",
      "139 : 139\n",
      "31 : 31\n"
     ]
    }
   ],
   "source": [
    "print(f'{test[0][\"final\"][\"pc\"]} : {daveNES.r_program_counter}')\n",
    "print(f'{test[0][\"final\"][\"s\"]} : {daveNES.r_stack_pointer}')\n",
    "print(f'{test[0][\"final\"][\"a\"]} : {daveNES.r_accumulator}')\n",
    "print(f'{test[0][\"final\"][\"x\"]} : {daveNES.r_index_X}')\n",
    "print(f'{test[0][\"final\"][\"y\"]} : {daveNES.r_index_Y}')"
   ]
  },
  {
   "cell_type": "code",
   "execution_count": null,
   "metadata": {},
   "outputs": [],
   "source": []
  }
 ],
 "metadata": {
  "kernelspec": {
   "display_name": "davenespy310",
   "language": "python",
   "name": "python3"
  },
  "language_info": {
   "codemirror_mode": {
    "name": "ipython",
    "version": 3
   },
   "file_extension": ".py",
   "mimetype": "text/x-python",
   "name": "python",
   "nbconvert_exporter": "python",
   "pygments_lexer": "ipython3",
   "version": "3.10.8"
  },
  "orig_nbformat": 4,
  "vscode": {
   "interpreter": {
    "hash": "e38c9d708ad4e13ce48a5848b9e9f2079bf29403fe5756e7d626cc29b0e14a68"
   }
  }
 },
 "nbformat": 4,
 "nbformat_minor": 2
}
