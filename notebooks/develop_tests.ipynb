{
 "cells": [
  {
   "cell_type": "code",
   "execution_count": 1,
   "metadata": {},
   "outputs": [
    {
     "name": "stdout",
     "output_type": "stream",
     "text": [
      "pygame 2.3.0 (SDL 2.24.2, Python 3.10.8)\n",
      "Hello from the pygame community. https://www.pygame.org/contribute.html\n"
     ]
    }
   ],
   "source": [
    "import json\n",
    "import numpy as np\n",
    "import sys\n",
    "sys.path.append('../src')\n",
    "import cpu\n",
    "\n",
    "# https://github.com/TomHarte/ProcessorTests/tree/main/nes6502\n",
    "\n",
    "with open('C:/Users/David/Documents/Coding/daveNES/tests/ProcessorTests-main/nes6502/v1/28.json') as f:\n",
    "    test = json.load(f)"
   ]
  },
  {
   "attachments": {},
   "cell_type": "markdown",
   "metadata": {},
   "source": [
    "`! pytest --html=\"report_%date:/=-%_%time::=-%.html\"`"
   ]
  },
  {
   "cell_type": "code",
   "execution_count": 2,
   "metadata": {},
   "outputs": [],
   "source": [
    "subtest = 0"
   ]
  },
  {
   "cell_type": "code",
   "execution_count": 3,
   "metadata": {},
   "outputs": [
    {
     "data": {
      "text/plain": [
       "{'name': '28 87 5a',\n",
       " 'initial': {'pc': 50529,\n",
       "  's': 58,\n",
       "  'a': 28,\n",
       "  'x': 193,\n",
       "  'y': 77,\n",
       "  'p': 229,\n",
       "  'ram': [[50529, 40], [50530, 135], [50531, 90], [314, 173], [315, 136]]},\n",
       " 'final': {'pc': 50530,\n",
       "  's': 59,\n",
       "  'a': 28,\n",
       "  'x': 193,\n",
       "  'y': 77,\n",
       "  'p': 168,\n",
       "  'ram': [[314, 173], [315, 136], [50529, 40], [50530, 135], [50531, 90]]},\n",
       " 'cycles': [[50529, 40, 'read'],\n",
       "  [50530, 135, 'read'],\n",
       "  [314, 173, 'read'],\n",
       "  [315, 136, 'read']]}"
      ]
     },
     "execution_count": 3,
     "metadata": {},
     "output_type": "execute_result"
    }
   ],
   "source": [
    "test[0]"
   ]
  },
  {
   "cell_type": "code",
   "execution_count": 4,
   "metadata": {},
   "outputs": [
    {
     "data": {
      "text/plain": [
       "[[50529, 40], [50530, 135], [50531, 90], [314, 173], [315, 136]]"
      ]
     },
     "execution_count": 4,
     "metadata": {},
     "output_type": "execute_result"
    }
   ],
   "source": [
    "test[subtest]['initial']['ram']"
   ]
  },
  {
   "cell_type": "code",
   "execution_count": 5,
   "metadata": {},
   "outputs": [],
   "source": [
    "def init_daveNES(test):\n",
    "    daveNES = cpu.MOS6502(debug = False)\n",
    "    daveNES.initialise_RAM()\n",
    "\n",
    "    # Load test program\n",
    "    for val in test['initial']['ram']:\n",
    "        print(f'{val[0]}, {val[1]}')\n",
    "        daveNES.ram.memory[val[0]] = np.uint8(val[1])\n",
    "    daveNES.r_program_counter = test['initial']['pc']\n",
    "    daveNES.r_stack_pointer = test['initial']['s']\n",
    "    daveNES.r_accumulator = test['initial']['a']\n",
    "    daveNES.r_index_X = test['initial']['x']\n",
    "    daveNES.r_index_Y = test['initial']['y']\n",
    "    daveNES.value_to_status(test['initial']['p'])\n",
    "\n",
    "    return daveNES"
   ]
  },
  {
   "cell_type": "code",
   "execution_count": 6,
   "metadata": {},
   "outputs": [
    {
     "name": "stdout",
     "output_type": "stream",
     "text": [
      "50529, 40\n",
      "50530, 135\n",
      "50531, 90\n",
      "314, 173\n",
      "315, 136\n"
     ]
    }
   ],
   "source": [
    "daveNES = init_daveNES(test[subtest])"
   ]
  },
  {
   "cell_type": "code",
   "execution_count": 7,
   "metadata": {},
   "outputs": [
    {
     "name": "stdout",
     "output_type": "stream",
     "text": [
      "0x28, PLP\n",
      "PC: 0xc561, SP: 0x3a, A: 0x1c, X: 0xc1, Y: 0x4d, [1, 1, 1, 0, 0, 1, 0, 1]\n"
     ]
    }
   ],
   "source": [
    "daveNES.step_program()\n",
    "daveNES.r_status['flag_B1'] = 1"
   ]
  },
  {
   "cell_type": "code",
   "execution_count": 8,
   "metadata": {},
   "outputs": [
    {
     "name": "stdout",
     "output_type": "stream",
     "text": [
      "50530 : 50530\n",
      "59 : 59\n",
      "28 : 28\n",
      "193 : 193\n",
      "77 : 77\n",
      "10101000 : 10011000\n"
     ]
    }
   ],
   "source": [
    "print(f'{test[subtest][\"final\"][\"pc\"]} : {daveNES.r_program_counter}')\n",
    "print(f'{test[subtest][\"final\"][\"s\"]} : {daveNES.r_stack_pointer}')\n",
    "print(f'{test[subtest][\"final\"][\"a\"]} : {daveNES.r_accumulator}')\n",
    "print(f'{test[subtest][\"final\"][\"x\"]} : {daveNES.r_index_X}')\n",
    "print(f'{test[subtest][\"final\"][\"y\"]} : {daveNES.r_index_Y}')\n",
    "print(f'{test[subtest][\"final\"][\"p\"]:08b} : {\"\".join(str(int(daveNES.r_status[k])) for k in daveNES.r_status.keys())[::-1]}')"
   ]
  },
  {
   "cell_type": "code",
   "execution_count": 9,
   "metadata": {},
   "outputs": [
    {
     "name": "stdout",
     "output_type": "stream",
     "text": [
      "10001000\n"
     ]
    }
   ],
   "source": [
    "print(f'{136:08b}')"
   ]
  },
  {
   "cell_type": "code",
   "execution_count": 10,
   "metadata": {},
   "outputs": [],
   "source": [
    "for i in range(-100, 100):\n",
    "    val = daveNES.ram.memory[daveNES.r_stack_pointer + i]\n",
    "    if val != 0:\n",
    "        print(val)"
   ]
  },
  {
   "cell_type": "code",
   "execution_count": 11,
   "metadata": {},
   "outputs": [],
   "source": [
    "keys = []\n",
    "for k in daveNES.r_status.keys():\n",
    "    keys += [k]"
   ]
  },
  {
   "cell_type": "code",
   "execution_count": 12,
   "metadata": {},
   "outputs": [
    {
     "data": {
      "text/plain": [
       "['flag_N',\n",
       " 'flag_V',\n",
       " 'flag_B1',\n",
       " 'flag_B0',\n",
       " 'flag_D',\n",
       " 'flag_I',\n",
       " 'flag_Z',\n",
       " 'flag_C']"
      ]
     },
     "execution_count": 12,
     "metadata": {},
     "output_type": "execute_result"
    }
   ],
   "source": [
    "keys[::-1]"
   ]
  },
  {
   "cell_type": "code",
   "execution_count": 13,
   "metadata": {},
   "outputs": [
    {
     "data": {
      "text/plain": [
       "'10011000'"
      ]
     },
     "execution_count": 13,
     "metadata": {},
     "output_type": "execute_result"
    }
   ],
   "source": [
    "\"\".join(str(int(daveNES.r_status[k])) for k in daveNES.r_status.keys())[::-1]"
   ]
  },
  {
   "cell_type": "code",
   "execution_count": 14,
   "metadata": {},
   "outputs": [
    {
     "data": {
      "text/plain": [
       "0"
      ]
     },
     "execution_count": 14,
     "metadata": {},
     "output_type": "execute_result"
    }
   ],
   "source": [
    "np.uint8(64) & 0b1000_0000"
   ]
  },
  {
   "cell_type": "code",
   "execution_count": null,
   "metadata": {},
   "outputs": [],
   "source": []
  }
 ],
 "metadata": {
  "kernelspec": {
   "display_name": "davenespy310",
   "language": "python",
   "name": "python3"
  },
  "language_info": {
   "codemirror_mode": {
    "name": "ipython",
    "version": 3
   },
   "file_extension": ".py",
   "mimetype": "text/x-python",
   "name": "python",
   "nbconvert_exporter": "python",
   "pygments_lexer": "ipython3",
   "version": "3.10.8"
  },
  "orig_nbformat": 4,
  "vscode": {
   "interpreter": {
    "hash": "e38c9d708ad4e13ce48a5848b9e9f2079bf29403fe5756e7d626cc29b0e14a68"
   }
  }
 },
 "nbformat": 4,
 "nbformat_minor": 2
}
