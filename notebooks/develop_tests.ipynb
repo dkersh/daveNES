{
 "cells": [
  {
   "cell_type": "code",
   "execution_count": 18,
   "metadata": {},
   "outputs": [],
   "source": [
    "import json\n",
    "import numpy as np\n",
    "import sys\n",
    "sys.path.append('../src')\n",
    "import cpu\n",
    "\n",
    "with open('C:/Users/David/Documents/Coding/daveNES/tests/ProcessorTests-main/nes6502/v1/0a.json') as f:\n",
    "    test_0a = json.load(f)"
   ]
  },
  {
   "cell_type": "code",
   "execution_count": 15,
   "metadata": {},
   "outputs": [],
   "source": [
    "def get_test(json_filename: str) -> dict:\n",
    "    with open(json_filename) as f:\n",
    "        test = json.load(f)\n",
    "\n",
    "    print(test[0]['name'])\n",
    "    print(test[0]['initial'])\n",
    "    print(test[0]['final'])\n",
    "    for l in test[0]['cycles']:\n",
    "        print(f'addr: 0x{l[0]:04x} | value: 0x{l[1]:04x} | {l[2]}')\n",
    "\n",
    "    return test\n",
    "\n",
    "def init_test(daveNES, test):\n",
    "    for val in test[0]['initial']['ram']:\n",
    "        print(f'{val[0]}, {val[1]}')\n",
    "        daveNES.ram.memory[val[0]] = np.uint8(val[1])\n",
    "    daveNES.r_program_counter = test[0]['initial']['pc']\n",
    "    daveNES.r_stack_pointer = test[0]['initial']['s']\n",
    "    daveNES.r_accumulator = test[0]['initial']['a']\n",
    "    daveNES.r_index_X = test[0]['initial']['x']\n",
    "    daveNES.r_index_Y = test[0]['initial']['y']\n",
    "    daveNES.value_to_status(test[0]['initial']['p'])\n",
    "\n",
    "def perform_test(daveNES, test):\n",
    "    # Perform one cycle\n",
    "    daveNES.step_program()\n",
    "\n",
    "    assert test[0]['final']['pc'] == daveNES.r_program_counter\n",
    "    assert test_0a[0]['final']['s'] == daveNES.r_stack_pointer\n",
    "print(f\"a: {test_0a[0]['final']['a'] == daveNES.r_accumulator}\")\n",
    "print(f\"x: {test_0a[0]['final']['x'] == daveNES.r_index_X}\")\n",
    "print(f\"y: {test_0a[0]['final']['y'] == daveNES.r_index_Y}\")"
   ]
  },
  {
   "cell_type": "code",
   "execution_count": 17,
   "metadata": {},
   "outputs": [
    {
     "name": "stdout",
     "output_type": "stream",
     "text": [
      "0a 0a 45\n",
      "{'pc': 23657, 's': 151, 'a': 160, 'x': 116, 'y': 189, 'p': 168, 'ram': [[23657, 10], [23658, 10], [23659, 69]]}\n",
      "{'pc': 23658, 's': 151, 'a': 64, 'x': 116, 'y': 189, 'p': 41, 'ram': [[23657, 10], [23658, 10], [23659, 69]]}\n",
      "addr: 0x5c69 | value: 0x000a | read\n",
      "addr: 0x5c6a | value: 0x000a | read\n",
      "23657, 10\n",
      "23658, 10\n",
      "23659, 69\n",
      "23657\n",
      "151\n",
      "160\n",
      "116\n",
      "189\n",
      "0xa, ASL\n",
      "PC: 0x5c69, SP: 0x97, A: 0xa0, X: 0x74, Y: 0xbd, [1, 0, 1, 0, 1, 0, 0, 0]\n",
      "pc: True\n",
      "s: True\n",
      "a: True\n",
      "x: True\n",
      "y: True\n"
     ]
    }
   ],
   "source": [
    "test = get_test('C:/Users/David/Documents/Coding/daveNES/tests/ProcessorTests-main/nes6502/v1/0a.json')\n",
    "# Initialise CPU\n",
    "daveNES = cpu.MOS6502(debug = False)\n",
    "daveNES.initialise_RAM()\n",
    "init_test(daveNES, test)\n",
    "\n",
    "print(daveNES.r_program_counter)\n",
    "print(daveNES.r_stack_pointer)\n",
    "print(daveNES.r_accumulator)\n",
    "print(daveNES.r_index_X)\n",
    "print(daveNES.r_index_Y)\n",
    "\n",
    "# Run Program\n",
    "daveNES.step_program()\n",
    "\n",
    "# Compare Results\n",
    "print(f\"pc: {test_0a[0]['final']['pc'] == daveNES.r_program_counter}\")\n",
    "print(f\"s: {test_0a[0]['final']['s'] == daveNES.r_stack_pointer}\")\n",
    "print(f\"a: {test_0a[0]['final']['a'] == daveNES.r_accumulator}\")\n",
    "print(f\"x: {test_0a[0]['final']['x'] == daveNES.r_index_X}\")\n",
    "print(f\"y: {test_0a[0]['final']['y'] == daveNES.r_index_Y}\")"
   ]
  },
  {
   "cell_type": "code",
   "execution_count": 3,
   "metadata": {},
   "outputs": [
    {
     "name": "stdout",
     "output_type": "stream",
     "text": [
      "0a 0a 45\n",
      "{'pc': 23657, 's': 151, 'a': 160, 'x': 116, 'y': 189, 'p': 168, 'ram': [[23657, 10], [23658, 10], [23659, 69]]}\n",
      "{'pc': 23658, 's': 151, 'a': 64, 'x': 116, 'y': 189, 'p': 41, 'ram': [[23657, 10], [23658, 10], [23659, 69]]}\n",
      "addr: 0x5c69 | value: 0x000a | read\n",
      "addr: 0x5c6a | value: 0x000a | read\n"
     ]
    }
   ],
   "source": [
    "print(test_0a[0]['name'])\n",
    "print(test_0a[0]['initial'])\n",
    "print(test_0a[0]['final'])\n",
    "for l in test_0a[0]['cycles']:\n",
    "    print(f'addr: 0x{l[0]:04x} | value: 0x{l[1]:04x} | {l[2]}')"
   ]
  },
  {
   "cell_type": "code",
   "execution_count": 5,
   "metadata": {},
   "outputs": [
    {
     "name": "stdout",
     "output_type": "stream",
     "text": [
      "pygame 2.3.0 (SDL 2.24.2, Python 3.10.8)\n",
      "Hello from the pygame community. https://www.pygame.org/contribute.html\n"
     ]
    }
   ],
   "source": [
    "import sys\n",
    "sys.path.append('../src')\n",
    "import cpu"
   ]
  },
  {
   "cell_type": "code",
   "execution_count": 6,
   "metadata": {},
   "outputs": [],
   "source": [
    "# Initialise CPU\n",
    "daveNES = cpu.MOS6502(debug = False)\n",
    "daveNES.initialise_RAM()\n",
    "# daveNES.reset()"
   ]
  },
  {
   "cell_type": "code",
   "execution_count": 7,
   "metadata": {},
   "outputs": [
    {
     "name": "stdout",
     "output_type": "stream",
     "text": [
      "23657\n",
      "151\n",
      "160\n",
      "116\n",
      "189\n",
      "0xa, ASL\n",
      "PC: 0x5c69, SP: 0x97, A: 0xa0, X: 0x74, Y: 0xbd, [1, 0, 1, 0, 1, 0, 0, 0]\n",
      "pc: True\n",
      "s: True\n",
      "a: True\n",
      "x: True\n",
      "y: True\n"
     ]
    }
   ],
   "source": [
    "# Load the program\n",
    "for val in test_0a[0]['initial']['ram']:\n",
    "    daveNES.ram.memory[val[0]] = np.uint8(val[1])\n",
    "daveNES.r_program_counter = test_0a[0]['initial']['pc']\n",
    "daveNES.r_stack_pointer = test_0a[0]['initial']['s']\n",
    "daveNES.r_accumulator = test_0a[0]['initial']['a']\n",
    "daveNES.r_index_X = test_0a[0]['initial']['x']\n",
    "daveNES.r_index_Y = test_0a[0]['initial']['y']\n",
    "daveNES.value_to_status(test_0a[0]['initial']['p'])\n",
    "print(daveNES.r_program_counter)\n",
    "print(daveNES.r_stack_pointer)\n",
    "print(daveNES.r_accumulator)\n",
    "print(daveNES.r_index_X)\n",
    "print(daveNES.r_index_Y)\n",
    "\n",
    "# Run Program\n",
    "daveNES.step_program()\n",
    "\n",
    "# Compare Results\n",
    "print(f\"pc: {test_0a[0]['final']['pc'] == daveNES.r_program_counter}\")\n",
    "print(f\"s: {test_0a[0]['final']['s'] == daveNES.r_stack_pointer}\")\n",
    "print(f\"a: {test_0a[0]['final']['a'] == daveNES.r_accumulator}\")\n",
    "print(f\"x: {test_0a[0]['final']['x'] == daveNES.r_index_X}\")\n",
    "print(f\"y: {test_0a[0]['final']['y'] == daveNES.r_index_Y}\")"
   ]
  },
  {
   "cell_type": "code",
   "execution_count": 8,
   "metadata": {},
   "outputs": [
    {
     "data": {
      "text/plain": [
       "'10101000'"
      ]
     },
     "execution_count": 8,
     "metadata": {},
     "output_type": "execute_result"
    }
   ],
   "source": [
    "np.binary_repr(test_0a[0]['initial']['p'], 8)"
   ]
  },
  {
   "cell_type": "code",
   "execution_count": 9,
   "metadata": {},
   "outputs": [
    {
     "data": {
      "text/plain": [
       "'00101001'"
      ]
     },
     "execution_count": 9,
     "metadata": {},
     "output_type": "execute_result"
    }
   ],
   "source": [
    "np.binary_repr(test_0a[0]['final']['p'], 8)"
   ]
  },
  {
   "cell_type": "code",
   "execution_count": 10,
   "metadata": {},
   "outputs": [
    {
     "data": {
      "text/plain": [
       "{'flag_C': True,\n",
       " 'flag_Z': False,\n",
       " 'flag_I': False,\n",
       " 'flag_D': True,\n",
       " 'flag_B0': False,\n",
       " 'flag_B1': True,\n",
       " 'flag_V': False,\n",
       " 'flag_N': True}"
      ]
     },
     "execution_count": 10,
     "metadata": {},
     "output_type": "execute_result"
    }
   ],
   "source": [
    "daveNES.r_status"
   ]
  },
  {
   "cell_type": "code",
   "execution_count": 8,
   "metadata": {},
   "outputs": [
    {
     "data": {
      "text/plain": [
       "0"
      ]
     },
     "execution_count": 8,
     "metadata": {},
     "output_type": "execute_result"
    }
   ],
   "source": [
    "np.uint8((np.uint8(daveNES.r_accumulator << 1) << 1) << 1)"
   ]
  },
  {
   "cell_type": "code",
   "execution_count": 31,
   "metadata": {},
   "outputs": [
    {
     "data": {
      "text/plain": [
       "64"
      ]
     },
     "execution_count": 31,
     "metadata": {},
     "output_type": "execute_result"
    }
   ],
   "source": [
    "0x40"
   ]
  },
  {
   "cell_type": "code",
   "execution_count": 30,
   "metadata": {},
   "outputs": [
    {
     "data": {
      "text/plain": [
       "64"
      ]
     },
     "execution_count": 30,
     "metadata": {},
     "output_type": "execute_result"
    }
   ],
   "source": [
    "np.uint8(test_0a[0]['initial']['a'] << 1)"
   ]
  },
  {
   "cell_type": "code",
   "execution_count": 7,
   "metadata": {},
   "outputs": [
    {
     "data": {
      "text/plain": [
       "168"
      ]
     },
     "execution_count": 7,
     "metadata": {},
     "output_type": "execute_result"
    }
   ],
   "source": [
    "test_0a[0]['initial']['p']"
   ]
  },
  {
   "cell_type": "code",
   "execution_count": 6,
   "metadata": {},
   "outputs": [
    {
     "name": "stdout",
     "output_type": "stream",
     "text": [
      "23663\n",
      "151\n",
      "128\n",
      "116\n",
      "189\n"
     ]
    }
   ],
   "source": [
    "print(daveNES.r_program_counter)\n",
    "print(daveNES.r_stack_pointer)\n",
    "print(daveNES.r_accumulator)\n",
    "print(daveNES.r_index_X)\n",
    "print(daveNES.r_index_Y)"
   ]
  },
  {
   "cell_type": "code",
   "execution_count": 5,
   "metadata": {},
   "outputs": [
    {
     "name": "stdout",
     "output_type": "stream",
     "text": [
      "{'flag_C': False, 'flag_Z': False, 'flag_I': False, 'flag_D': True, 'flag_B0': False, 'flag_B1': True, 'flag_V': False, 'flag_N': True}\n"
     ]
    }
   ],
   "source": [
    "# Load program into memory\n",
    "daveNES.ram.memory[23657] = 10\n",
    "daveNES.ram.memory[23658] = 10\n",
    "daveNES.ram.memory[23659] = 69\n",
    "\n",
    "daveNES.r_program_counter = 23657\n",
    "daveNES.r_stack_pointer = 151\n",
    "daveNES.r_accumulator = 160\n",
    "daveNES.r_index_X = 116\n",
    "daveNES.r_index_Y = 189\n",
    "daveNES.value_to_status(168)\n",
    "print(daveNES.r_status)"
   ]
  },
  {
   "cell_type": "code",
   "execution_count": 6,
   "metadata": {},
   "outputs": [
    {
     "name": "stdout",
     "output_type": "stream",
     "text": [
      "0xa, ASL\n",
      "PC: 0x5c69, SP: 0x97, A: 0xa0, X: 0x74, Y: 0xbd, [1, 0, 1, 0, 1, 0, 0, 0]\n",
      "0xa, ASL\n",
      "PC: 0x5c6a, SP: 0x97, A: 0x40, X: 0x74, Y: 0xbd, [1, 0, 1, 0, 1, 0, 0, 1]\n",
      "0x45, EOR\n",
      "PC: 0x5c6b, SP: 0x97, A: 0x80, X: 0x74, Y: 0xbd, [0, 0, 1, 0, 1, 0, 0, 0]\n",
      "0\n",
      "0x0, BRK\n",
      "PC: 0x5c6d, SP: 0x97, A: 0x80, X: 0x74, Y: 0xbd, [1, 0, 1, 0, 1, 0, 0, 0]\n",
      "BREAK\n"
     ]
    }
   ],
   "source": [
    "daveNES.run_program()"
   ]
  },
  {
   "cell_type": "code",
   "execution_count": 7,
   "metadata": {},
   "outputs": [
    {
     "name": "stdout",
     "output_type": "stream",
     "text": [
      "pc: 23663 s: 151 a: 128 x: 116 y: 189\n"
     ]
    }
   ],
   "source": [
    "print(\n",
    "    f'pc: {daveNES.r_program_counter}',\n",
    "    f's: {daveNES.r_stack_pointer}',\n",
    "    f'a: {daveNES.r_accumulator}',\n",
    "    f'x: {daveNES.r_index_X}',\n",
    "    f'y: {daveNES.r_index_Y}'\n",
    ")"
   ]
  },
  {
   "cell_type": "code",
   "execution_count": 8,
   "metadata": {},
   "outputs": [
    {
     "name": "stdout",
     "output_type": "stream",
     "text": [
      "pc: 23663 s: 151 a: 128 x: 116 y: 189\n",
      "0x0, BRK\n",
      "PC: 0x5c6f, SP: 0x97, A: 0x80, X: 0x74, Y: 0xbd, [1, 0, 1, 1, 1, 0, 0, 0]\n",
      "BREAK\n",
      "29\n"
     ]
    }
   ],
   "source": [
    "print(\n",
    "    f'pc: {daveNES.r_program_counter}',\n",
    "    f's: {daveNES.r_stack_pointer}',\n",
    "    f'a: {daveNES.r_accumulator}',\n",
    "    f'x: {daveNES.r_index_X}',\n",
    "    f'y: {daveNES.r_index_Y}'\n",
    ")\n",
    "daveNES.step_program()\n",
    "binary_str = ''.join(['1' if daveNES.r_status[k] else '0' for k in daveNES.r_status])\n",
    "print(int(binary_str, 2))"
   ]
  },
  {
   "cell_type": "code",
   "execution_count": 9,
   "metadata": {},
   "outputs": [
    {
     "data": {
      "text/plain": [
       "128"
      ]
     },
     "execution_count": 9,
     "metadata": {},
     "output_type": "execute_result"
    }
   ],
   "source": [
    "0x80"
   ]
  },
  {
   "cell_type": "code",
   "execution_count": null,
   "metadata": {},
   "outputs": [],
   "source": []
  }
 ],
 "metadata": {
  "kernelspec": {
   "display_name": "davenespy310",
   "language": "python",
   "name": "python3"
  },
  "language_info": {
   "codemirror_mode": {
    "name": "ipython",
    "version": 3
   },
   "file_extension": ".py",
   "mimetype": "text/x-python",
   "name": "python",
   "nbconvert_exporter": "python",
   "pygments_lexer": "ipython3",
   "version": "3.10.8"
  },
  "orig_nbformat": 4,
  "vscode": {
   "interpreter": {
    "hash": "e38c9d708ad4e13ce48a5848b9e9f2079bf29403fe5756e7d626cc29b0e14a68"
   }
  }
 },
 "nbformat": 4,
 "nbformat_minor": 2
}
