{
 "cells": [
  {
   "cell_type": "code",
   "execution_count": 58,
   "metadata": {},
   "outputs": [],
   "source": [
    "import json\n",
    "import numpy as np\n",
    "import sys\n",
    "sys.path.append('../src')\n",
    "import cpu\n",
    "\n",
    "# https://github.com/TomHarte/ProcessorTests/tree/main/nes6502\n",
    "\n",
    "with open('C:/Users/David/Documents/Coding/daveNES/tests/ProcessorTests-main/nes6502/v1/0a.json') as f:\n",
    "    test = json.load(f)"
   ]
  },
  {
   "attachments": {},
   "cell_type": "markdown",
   "metadata": {},
   "source": [
    "`! pytest --html=\"report_%date:/=-%_%time::=-%.html\"`"
   ]
  },
  {
   "cell_type": "code",
   "execution_count": 59,
   "metadata": {},
   "outputs": [],
   "source": [
    "subtest = 100"
   ]
  },
  {
   "cell_type": "code",
   "execution_count": 60,
   "metadata": {},
   "outputs": [
    {
     "data": {
      "text/plain": [
       "{'name': '0a 0a 45',\n",
       " 'initial': {'pc': 23657,\n",
       "  's': 151,\n",
       "  'a': 160,\n",
       "  'x': 116,\n",
       "  'y': 189,\n",
       "  'p': 168,\n",
       "  'ram': [[23657, 10], [23658, 10], [23659, 69]]},\n",
       " 'final': {'pc': 23658,\n",
       "  's': 151,\n",
       "  'a': 64,\n",
       "  'x': 116,\n",
       "  'y': 189,\n",
       "  'p': 41,\n",
       "  'ram': [[23657, 10], [23658, 10], [23659, 69]]},\n",
       " 'cycles': [[23657, 10, 'read'], [23658, 10, 'read']]}"
      ]
     },
     "execution_count": 60,
     "metadata": {},
     "output_type": "execute_result"
    }
   ],
   "source": [
    "test[0]"
   ]
  },
  {
   "cell_type": "code",
   "execution_count": 61,
   "metadata": {},
   "outputs": [
    {
     "data": {
      "text/plain": [
       "[[33723, 10], [33724, 167], [33725, 214]]"
      ]
     },
     "execution_count": 61,
     "metadata": {},
     "output_type": "execute_result"
    }
   ],
   "source": [
    "test[subtest]['initial']['ram']"
   ]
  },
  {
   "cell_type": "code",
   "execution_count": 62,
   "metadata": {},
   "outputs": [],
   "source": [
    "def init_daveNES(test):\n",
    "    daveNES = cpu.MOS6502(debug = False)\n",
    "    daveNES.initialise_RAM()\n",
    "\n",
    "    # Load test program\n",
    "    for val in test['initial']['ram']:\n",
    "        print(f'{val[0]}, {val[1]}')\n",
    "        daveNES.ram.memory[val[0]] = np.uint8(val[1])\n",
    "    daveNES.r_program_counter = test['initial']['pc']\n",
    "    daveNES.r_stack_pointer = test['initial']['s']\n",
    "    daveNES.r_accumulator = test['initial']['a']\n",
    "    daveNES.r_index_X = test['initial']['x']\n",
    "    daveNES.r_index_Y = test['initial']['y']\n",
    "    daveNES.value_to_status(test['initial']['p'])\n",
    "\n",
    "    return daveNES"
   ]
  },
  {
   "cell_type": "code",
   "execution_count": 63,
   "metadata": {},
   "outputs": [
    {
     "name": "stdout",
     "output_type": "stream",
     "text": [
      "33723, 10\n",
      "33724, 167\n",
      "33725, 214\n"
     ]
    }
   ],
   "source": [
    "daveNES = init_daveNES(test[subtest])"
   ]
  },
  {
   "cell_type": "code",
   "execution_count": 64,
   "metadata": {},
   "outputs": [
    {
     "name": "stdout",
     "output_type": "stream",
     "text": [
      "0xa, ASL\n",
      "PC: 0x83bb, SP: 0x74, A: 0x55, X: 0x2b, Y: 0xbf, [1, 0, 1, 0, 1, 1, 0, 0]\n"
     ]
    }
   ],
   "source": [
    "daveNES.step_program()"
   ]
  },
  {
   "cell_type": "code",
   "execution_count": 65,
   "metadata": {},
   "outputs": [
    {
     "name": "stdout",
     "output_type": "stream",
     "text": [
      "33724 : 33724\n",
      "116 : 116\n",
      "170 : 170\n",
      "43 : 43\n",
      "191 : 191\n",
      "10101100 : 00101100\n"
     ]
    }
   ],
   "source": [
    "print(f'{test[subtest][\"final\"][\"pc\"]} : {daveNES.r_program_counter}')\n",
    "print(f'{test[subtest][\"final\"][\"s\"]} : {daveNES.r_stack_pointer}')\n",
    "print(f'{test[subtest][\"final\"][\"a\"]} : {daveNES.r_accumulator}')\n",
    "print(f'{test[subtest][\"final\"][\"x\"]} : {daveNES.r_index_X}')\n",
    "print(f'{test[subtest][\"final\"][\"y\"]} : {daveNES.r_index_Y}')\n",
    "print(f'{test[subtest][\"final\"][\"p\"]:08b} : {\"\".join(str(int(daveNES.r_status[k])) for k in daveNES.r_status.keys())[::-1]}')"
   ]
  },
  {
   "cell_type": "code",
   "execution_count": 69,
   "metadata": {},
   "outputs": [
    {
     "name": "stdout",
     "output_type": "stream",
     "text": [
      "flag_C\n",
      "flag_Z\n",
      "flag_I\n",
      "flag_D\n",
      "flag_B0\n",
      "flag_B1\n",
      "flag_V\n",
      "flag_N\n"
     ]
    }
   ],
   "source": [
    "keys = []\n",
    "for k in daveNES.r_status.keys():\n",
    "    print(k)"
   ]
  },
  {
   "cell_type": "code",
   "execution_count": null,
   "metadata": {},
   "outputs": [],
   "source": []
  }
 ],
 "metadata": {
  "kernelspec": {
   "display_name": "davenespy310",
   "language": "python",
   "name": "python3"
  },
  "language_info": {
   "codemirror_mode": {
    "name": "ipython",
    "version": 3
   },
   "file_extension": ".py",
   "mimetype": "text/x-python",
   "name": "python",
   "nbconvert_exporter": "python",
   "pygments_lexer": "ipython3",
   "version": "3.10.8"
  },
  "orig_nbformat": 4,
  "vscode": {
   "interpreter": {
    "hash": "e38c9d708ad4e13ce48a5848b9e9f2079bf29403fe5756e7d626cc29b0e14a68"
   }
  }
 },
 "nbformat": 4,
 "nbformat_minor": 2
}
