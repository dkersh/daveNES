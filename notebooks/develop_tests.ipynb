{
 "cells": [
  {
   "cell_type": "code",
   "execution_count": 1,
   "metadata": {},
   "outputs": [
    {
     "name": "stdout",
     "output_type": "stream",
     "text": [
      "pygame 2.3.0 (SDL 2.24.2, Python 3.10.8)\n",
      "Hello from the pygame community. https://www.pygame.org/contribute.html\n"
     ]
    }
   ],
   "source": [
    "import json\n",
    "import numpy as np\n",
    "import sys\n",
    "sys.path.append('../src')\n",
    "import cpu\n",
    "\n",
    "with open('C:/Users/David/Documents/Coding/daveNES/tests/ProcessorTests-main/nes6502/v1/61.json') as f:\n",
    "    test = json.load(f)"
   ]
  },
  {
   "cell_type": "code",
   "execution_count": 2,
   "metadata": {},
   "outputs": [
    {
     "data": {
      "text/plain": [
       "{'name': '61 90 d3',\n",
       " 'initial': {'pc': 24473,\n",
       "  's': 48,\n",
       "  'a': 201,\n",
       "  'x': 139,\n",
       "  'y': 31,\n",
       "  'p': 44,\n",
       "  'ram': [[24473, 97],\n",
       "   [24474, 144],\n",
       "   [24475, 211],\n",
       "   [144, 105],\n",
       "   [27, 231],\n",
       "   [28, 120],\n",
       "   [30951, 128]]},\n",
       " 'final': {'pc': 24475,\n",
       "  's': 48,\n",
       "  'a': 73,\n",
       "  'x': 139,\n",
       "  'y': 31,\n",
       "  'p': 109,\n",
       "  'ram': [[27, 231],\n",
       "   [28, 120],\n",
       "   [144, 105],\n",
       "   [24473, 97],\n",
       "   [24474, 144],\n",
       "   [24475, 211],\n",
       "   [30951, 128]]},\n",
       " 'cycles': [[24473, 97, 'read'],\n",
       "  [24474, 144, 'read'],\n",
       "  [144, 105, 'read'],\n",
       "  [27, 231, 'read'],\n",
       "  [28, 120, 'read'],\n",
       "  [30951, 128, 'read']]}"
      ]
     },
     "execution_count": 2,
     "metadata": {},
     "output_type": "execute_result"
    }
   ],
   "source": [
    "test[0]"
   ]
  },
  {
   "cell_type": "code",
   "execution_count": 3,
   "metadata": {},
   "outputs": [],
   "source": [
    "def init_daveNES(test):\n",
    "    daveNES = cpu.MOS6502(debug = False)\n",
    "    daveNES.initialise_RAM()\n",
    "\n",
    "    # Load test program\n",
    "    for val in test['initial']['ram']:\n",
    "        print(f'{val[0]}, {val[1]}')\n",
    "        daveNES.ram.memory[val[0]] = np.uint8(val[1])\n",
    "    daveNES.r_program_counter = test['initial']['pc']\n",
    "    daveNES.r_stack_pointer = test['initial']['s']\n",
    "    daveNES.r_accumulator = test['initial']['a']\n",
    "    daveNES.r_index_X = test['initial']['x']\n",
    "    daveNES.r_index_Y = test['initial']['y']\n",
    "    daveNES.value_to_status(test['initial']['p'])\n",
    "\n",
    "    return daveNES"
   ]
  },
  {
   "cell_type": "code",
   "execution_count": 4,
   "metadata": {},
   "outputs": [
    {
     "data": {
      "text/plain": [
       "[[24473, 97],\n",
       " [24474, 144],\n",
       " [24475, 211],\n",
       " [144, 105],\n",
       " [27, 231],\n",
       " [28, 120],\n",
       " [30951, 128]]"
      ]
     },
     "execution_count": 4,
     "metadata": {},
     "output_type": "execute_result"
    }
   ],
   "source": [
    "test[0]['initial']['ram']"
   ]
  },
  {
   "cell_type": "code",
   "execution_count": 5,
   "metadata": {},
   "outputs": [
    {
     "name": "stdout",
     "output_type": "stream",
     "text": [
      "24473, 97\n",
      "24474, 144\n",
      "24475, 211\n",
      "144, 105\n",
      "27, 231\n",
      "28, 120\n",
      "30951, 128\n"
     ]
    }
   ],
   "source": [
    "daveNES = init_daveNES(test[0])"
   ]
  },
  {
   "cell_type": "code",
   "execution_count": 57,
   "metadata": {},
   "outputs": [
    {
     "name": "stdout",
     "output_type": "stream",
     "text": [
      "ptr: 236\n",
      "addr: 0\n",
      "201\n"
     ]
    }
   ],
   "source": [
    "# Indirect X addressing mode\n",
    "daveNES.r_program_counter = test[0]['initial']['pc']\n",
    "base = daveNES.ram.read(daveNES.r_program_counter)\n",
    "daveNES.r_program_counter += 1\n",
    "ptr = np.uint8(base) + np.uint8(daveNES.r_index_X) # Wrapping Add (may throw overflow exception)\n",
    "print(f'ptr: {ptr}')\n",
    "lo = daveNES.ram.read(ptr.astype(np.uint16))\n",
    "hi = daveNES.ram.read(\n",
    "    (ptr + np.uint8(1)).astype(np.uint16)\n",
    ")  # Wrapping Add (may throw overflow exception)\n",
    "addr = np.uint16(hi) << 8 | np.uint16(lo)\n",
    "\n",
    "print(f'addr: {addr}')\n",
    "\n",
    "#addr = np.uint16(30951) # This seems to be the issue, we want to point to 30951 as a np.uint16\n",
    "value = daveNES.ram.read(addr)\n",
    "\n",
    "a = np.uint16(daveNES.r_accumulator)\n",
    "m = np.uint16(value)\n",
    "c = np.uint16(daveNES.r_status[\"flag_C\"])\n",
    "\n",
    "result = a + m + c\n",
    "\n",
    "print(np.uint8(result))"
   ]
  },
  {
   "cell_type": "code",
   "execution_count": 100,
   "metadata": {},
   "outputs": [
    {
     "name": "stdout",
     "output_type": "stream",
     "text": [
      "base: 144\n",
      "ptr: 27\n"
     ]
    },
    {
     "name": "stderr",
     "output_type": "stream",
     "text": [
      "C:\\Users\\David\\AppData\\Local\\Temp\\ipykernel_19140\\3472765775.py:5: RuntimeWarning: overflow encountered in ubyte_scalars\n",
      "  ptr = base + np.uint8(daveNES.r_index_X)\n"
     ]
    }
   ],
   "source": [
    "pc = test[0]['initial']['pc'] + 1\n",
    "base = daveNES.ram.read(pc)\n",
    "pc += 1\n",
    "print(f'base: {base}')\n",
    "ptr = base + np.uint8(daveNES.r_index_X)\n",
    "print(f'ptr: {ptr}')\n",
    "#daveNES.ram.read(base + daveNES.r_index_X + np.uint8(1))\n",
    "\n",
    "# target_number is 30951"
   ]
  },
  {
   "cell_type": "code",
   "execution_count": 101,
   "metadata": {},
   "outputs": [
    {
     "data": {
      "text/plain": [
       "30951"
      ]
     },
     "execution_count": 101,
     "metadata": {},
     "output_type": "execute_result"
    }
   ],
   "source": [
    "daveNES.ram.read(np.uint16(ptr + 1) & 0x00FF) << 8 | daveNES.ram.read(np.uint16(ptr) & 0x00FF)"
   ]
  },
  {
   "cell_type": "code",
   "execution_count": 102,
   "metadata": {},
   "outputs": [
    {
     "data": {
      "text/plain": [
       "0"
      ]
     },
     "execution_count": 102,
     "metadata": {},
     "output_type": "execute_result"
    }
   ],
   "source": [
    "daveNES.ram.read(np.uint16(ptr + np.uint8(1))) &0x00FF << 8"
   ]
  },
  {
   "cell_type": "code",
   "execution_count": 95,
   "metadata": {},
   "outputs": [
    {
     "data": {
      "text/plain": [
       "231"
      ]
     },
     "execution_count": 95,
     "metadata": {},
     "output_type": "execute_result"
    }
   ],
   "source": [
    "daveNES.ram.read(np.uint16(ptr) & 0x00FF)"
   ]
  },
  {
   "cell_type": "code",
   "execution_count": null,
   "metadata": {},
   "outputs": [],
   "source": [
    "print(f'{test[\"final\"][\"pc\"]} : {daveNES.r_program_counter}'\n",
    "    assert test['final']['s'] == daveNES.r_stack_pointer\n",
    "    assert test['final']['a'] == daveNES.r_accumulator\n",
    "    assert test['final']['x'] == daveNES.r_index_X\n",
    "    assert test['final']['y'] == daveNES.r_index_Y"
   ]
  }
 ],
 "metadata": {
  "kernelspec": {
   "display_name": "davenespy310",
   "language": "python",
   "name": "python3"
  },
  "language_info": {
   "codemirror_mode": {
    "name": "ipython",
    "version": 3
   },
   "file_extension": ".py",
   "mimetype": "text/x-python",
   "name": "python",
   "nbconvert_exporter": "python",
   "pygments_lexer": "ipython3",
   "version": "3.10.8"
  },
  "orig_nbformat": 4,
  "vscode": {
   "interpreter": {
    "hash": "e38c9d708ad4e13ce48a5848b9e9f2079bf29403fe5756e7d626cc29b0e14a68"
   }
  }
 },
 "nbformat": 4,
 "nbformat_minor": 2
}
