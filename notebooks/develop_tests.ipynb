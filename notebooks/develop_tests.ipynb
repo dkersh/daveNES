{
 "cells": [
  {
   "cell_type": "code",
   "execution_count": 17,
   "metadata": {},
   "outputs": [],
   "source": [
    "import json\n",
    "import numpy as np\n",
    "import sys\n",
    "sys.path.append('../src')\n",
    "import cpu\n",
    "\n",
    "with open('C:/Users/David/Documents/Coding/daveNES/tests/ProcessorTests-main/nes6502/v1/e9.json') as f:\n",
    "    test = json.load(f)"
   ]
  },
  {
   "attachments": {},
   "cell_type": "markdown",
   "metadata": {},
   "source": [
    "`! pytest --html=\"report_%date:/=-%_%time::=-%.html\"`"
   ]
  },
  {
   "cell_type": "code",
   "execution_count": 25,
   "metadata": {},
   "outputs": [],
   "source": [
    "subtest = 100"
   ]
  },
  {
   "cell_type": "code",
   "execution_count": 26,
   "metadata": {},
   "outputs": [
    {
     "data": {
      "text/plain": [
       "{'name': 'e9 20 ae',\n",
       " 'initial': {'pc': 60024,\n",
       "  's': 171,\n",
       "  'a': 50,\n",
       "  'x': 168,\n",
       "  'y': 179,\n",
       "  'p': 106,\n",
       "  'ram': [[60024, 233], [60025, 32], [60026, 174]]},\n",
       " 'final': {'pc': 60026,\n",
       "  's': 171,\n",
       "  'a': 17,\n",
       "  'x': 168,\n",
       "  'y': 179,\n",
       "  'p': 41,\n",
       "  'ram': [[60024, 233], [60025, 32], [60026, 174]]},\n",
       " 'cycles': [[60024, 233, 'read'], [60025, 32, 'read']]}"
      ]
     },
     "execution_count": 26,
     "metadata": {},
     "output_type": "execute_result"
    }
   ],
   "source": [
    "test[0]"
   ]
  },
  {
   "cell_type": "code",
   "execution_count": 27,
   "metadata": {},
   "outputs": [
    {
     "data": {
      "text/plain": [
       "[[26488, 233], [26489, 155], [26490, 160]]"
      ]
     },
     "execution_count": 27,
     "metadata": {},
     "output_type": "execute_result"
    }
   ],
   "source": [
    "test[subtest]['initial']['ram']"
   ]
  },
  {
   "cell_type": "code",
   "execution_count": 28,
   "metadata": {},
   "outputs": [],
   "source": [
    "def init_daveNES(test):\n",
    "    daveNES = cpu.MOS6502(debug = False)\n",
    "    daveNES.initialise_RAM()\n",
    "\n",
    "    # Load test program\n",
    "    for val in test['initial']['ram']:\n",
    "        print(f'{val[0]}, {val[1]}')\n",
    "        daveNES.ram.memory[val[0]] = np.uint8(val[1])\n",
    "    daveNES.r_program_counter = test['initial']['pc']\n",
    "    daveNES.r_stack_pointer = test['initial']['s']\n",
    "    daveNES.r_accumulator = test['initial']['a']\n",
    "    daveNES.r_index_X = test['initial']['x']\n",
    "    daveNES.r_index_Y = test['initial']['y']\n",
    "    daveNES.value_to_status(test['initial']['p'])\n",
    "\n",
    "    return daveNES"
   ]
  },
  {
   "cell_type": "code",
   "execution_count": 29,
   "metadata": {},
   "outputs": [
    {
     "name": "stdout",
     "output_type": "stream",
     "text": [
      "26488, 233\n",
      "26489, 155\n",
      "26490, 160\n"
     ]
    }
   ],
   "source": [
    "daveNES = init_daveNES(test[subtest])"
   ]
  },
  {
   "cell_type": "code",
   "execution_count": 30,
   "metadata": {},
   "outputs": [
    {
     "name": "stdout",
     "output_type": "stream",
     "text": [
      "0xe9, SBC\n",
      "PC: 0x6778, SP: 0xd2, A: 0xba, X: 0xa3, Y: 0x68, [1, 1, 1, 0, 1, 1, 0, 1]\n",
      "SBC performed\n"
     ]
    }
   ],
   "source": [
    "daveNES.step_program()"
   ]
  },
  {
   "cell_type": "code",
   "execution_count": 31,
   "metadata": {},
   "outputs": [
    {
     "name": "stdout",
     "output_type": "stream",
     "text": [
      "26490 : 26490\n",
      "210 : 210\n",
      "31 : 31\n",
      "163 : 163\n",
      "104 : 104\n",
      "00101101 : [0, 1, 1, 0, 1, 1, 0, 1]\n"
     ]
    }
   ],
   "source": [
    "print(f'{test[subtest][\"final\"][\"pc\"]} : {daveNES.r_program_counter}')\n",
    "print(f'{test[subtest][\"final\"][\"s\"]} : {daveNES.r_stack_pointer}')\n",
    "print(f'{test[subtest][\"final\"][\"a\"]} : {daveNES.r_accumulator}')\n",
    "print(f'{test[subtest][\"final\"][\"x\"]} : {daveNES.r_index_X}')\n",
    "print(f'{test[subtest][\"final\"][\"y\"]} : {daveNES.r_index_Y}')\n",
    "print(f'{test[subtest][\"final\"][\"p\"]:08b} : {[int(daveNES.r_status[k]) for k in daveNES.r_status.keys()][::-1]}')"
   ]
  },
  {
   "cell_type": "code",
   "execution_count": null,
   "metadata": {},
   "outputs": [],
   "source": []
  }
 ],
 "metadata": {
  "kernelspec": {
   "display_name": "davenespy310",
   "language": "python",
   "name": "python3"
  },
  "language_info": {
   "codemirror_mode": {
    "name": "ipython",
    "version": 3
   },
   "file_extension": ".py",
   "mimetype": "text/x-python",
   "name": "python",
   "nbconvert_exporter": "python",
   "pygments_lexer": "ipython3",
   "version": "3.10.8"
  },
  "orig_nbformat": 4,
  "vscode": {
   "interpreter": {
    "hash": "e38c9d708ad4e13ce48a5848b9e9f2079bf29403fe5756e7d626cc29b0e14a68"
   }
  }
 },
 "nbformat": 4,
 "nbformat_minor": 2
}
