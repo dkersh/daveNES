{
 "cells": [
  {
   "cell_type": "code",
   "execution_count": 1,
   "metadata": {},
   "outputs": [],
   "source": [
    "import numpy as np\n",
    "import sys\n",
    "\n",
    "sys.path.append('../src')\n",
    "\n",
    "import cpu\n",
    "import program\n",
    "import importlib\n",
    "cpu = importlib.reload(cpu)\n",
    "program = importlib.reload(program)\n",
    "\n",
    "p = program.Program.from_file('../src/initial_program.txt')\n",
    "p_snake = program.Program.from_file('../src/snake_game.txt')\n",
    "p_first = program.Program.from_file('../src/first_program.txt')\n",
    "p_2 = program.Program.from_file('../src/program2.txt')\n",
    "p = program.Program.from_array(np.array(['a9', 'c0', 'aa', 'e8', '69', 'c4', '00']))"
   ]
  },
  {
   "cell_type": "code",
   "execution_count": 2,
   "metadata": {},
   "outputs": [
    {
     "data": {
      "text/plain": [
       "array([169, 192, 170, 232, 105, 196,   0], dtype=uint8)"
      ]
     },
     "execution_count": 2,
     "metadata": {},
     "output_type": "execute_result"
    }
   ],
   "source": [
    "p_2.program"
   ]
  },
  {
   "cell_type": "code",
   "execution_count": 3,
   "metadata": {},
   "outputs": [],
   "source": [
    "# Initialise CPU\n",
    "daveNES = cpu.MOS6502()\n",
    "daveNES.initialise_RAM()\n"
   ]
  },
  {
   "cell_type": "code",
   "execution_count": 4,
   "metadata": {},
   "outputs": [],
   "source": [
    "daveNES.load_program(p_2)\n",
    "daveNES.reset()"
   ]
  },
  {
   "cell_type": "code",
   "execution_count": 5,
   "metadata": {},
   "outputs": [
    {
     "name": "stdout",
     "output_type": "stream",
     "text": [
      "A: 0x0, X: 0x0, Y: 0x0, PC: 0x8000, SP: 0xfd\n",
      "registers: {'flag_C': False, 'flag_Z': False, 'flag_I': False, 'flag_D': False, 'flag_B': False, 'flag_V': False, 'flag_N': False}\n",
      "LDA\n",
      "A: 0xc0, X: 0x0, Y: 0x0, PC: 0x8002, SP: 0xfd\n",
      "registers: {'flag_C': False, 'flag_Z': False, 'flag_I': False, 'flag_D': False, 'flag_B': False, 'flag_V': False, 'flag_N': True}\n",
      "TAX\n",
      "A: 0xc0, X: 0xc0, Y: 0x0, PC: 0x8003, SP: 0xfd\n",
      "registers: {'flag_C': False, 'flag_Z': False, 'flag_I': False, 'flag_D': False, 'flag_B': False, 'flag_V': False, 'flag_N': True}\n",
      "INX\n",
      "A: 0xc0, X: 0xc1, Y: 0x0, PC: 0x8004, SP: 0xfd\n",
      "registers: {'flag_C': False, 'flag_Z': False, 'flag_I': False, 'flag_D': False, 'flag_B': False, 'flag_V': False, 'flag_N': True}\n",
      "ADC\n",
      "A: 0x84, X: 0xc1, Y: 0x0, PC: 0x8006, SP: 0xfd\n",
      "registers: {'flag_C': True, 'flag_Z': False, 'flag_I': False, 'flag_D': False, 'flag_B': False, 'flag_V': False, 'flag_N': True}\n",
      "BRK\n"
     ]
    }
   ],
   "source": [
    "daveNES.run_program()\n",
    "#print(daveNES.ram.memory[0x0200: 0x0205])\n",
    "daveNES.reset()"
   ]
  },
  {
   "cell_type": "code",
   "execution_count": 6,
   "metadata": {},
   "outputs": [
    {
     "data": {
      "text/plain": [
       "0"
      ]
     },
     "execution_count": 6,
     "metadata": {},
     "output_type": "execute_result"
    }
   ],
   "source": [
    "daveNES.r_accumulator"
   ]
  },
  {
   "cell_type": "code",
   "execution_count": 7,
   "metadata": {},
   "outputs": [
    {
     "data": {
      "text/plain": [
       "0"
      ]
     },
     "execution_count": 7,
     "metadata": {},
     "output_type": "execute_result"
    }
   ],
   "source": [
    "daveNES.r_accumulator & 0b1000_0000"
   ]
  },
  {
   "cell_type": "code",
   "execution_count": null,
   "metadata": {},
   "outputs": [],
   "source": []
  }
 ],
 "metadata": {
  "kernelspec": {
   "display_name": "py310_davenes",
   "language": "python",
   "name": "python3"
  },
  "language_info": {
   "codemirror_mode": {
    "name": "ipython",
    "version": 3
   },
   "file_extension": ".py",
   "mimetype": "text/x-python",
   "name": "python",
   "nbconvert_exporter": "python",
   "pygments_lexer": "ipython3",
   "version": "3.10.8"
  },
  "orig_nbformat": 4,
  "vscode": {
   "interpreter": {
    "hash": "e16483dc8fb9e36847e4a532e5de93b2b015369ba92d8084babcbd1a0ba583f8"
   }
  }
 },
 "nbformat": 4,
 "nbformat_minor": 2
}
