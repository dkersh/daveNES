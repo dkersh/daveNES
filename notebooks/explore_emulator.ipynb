{
 "cells": [
  {
   "cell_type": "code",
   "execution_count": 1,
   "metadata": {},
   "outputs": [],
   "source": [
    "import numpy as np\n",
    "import sys\n",
    "\n",
    "sys.path.append('../src')\n",
    "\n",
    "import cpu\n",
    "import program\n",
    "import importlib\n",
    "cpu = importlib.reload(cpu)\n",
    "program = importlib.reload(program)\n",
    "\n",
    "p = program.Program.from_file('../src/initial_program.txt')\n",
    "p_snake = program.Program.from_file('../src/snake_game.txt')\n",
    "p_first = program.Program.from_file('../src/first_program.txt')\n",
    "#p = program.Program.from_array(np.array(['a9', 'c1', '00']))"
   ]
  },
  {
   "cell_type": "code",
   "execution_count": 2,
   "metadata": {},
   "outputs": [
    {
     "data": {
      "text/plain": [
       "array([169,   1, 141,   0,   2, 169,   5, 141,   1,   2, 169,   8, 141,\n",
       "         2,   2], dtype=uint8)"
      ]
     },
     "execution_count": 2,
     "metadata": {},
     "output_type": "execute_result"
    }
   ],
   "source": [
    "p_first.program"
   ]
  },
  {
   "cell_type": "code",
   "execution_count": 3,
   "metadata": {},
   "outputs": [],
   "source": [
    "# Initialise CPU\n",
    "daveNES = cpu.MOS6502()\n",
    "daveNES.initialise_RAM()\n"
   ]
  },
  {
   "cell_type": "code",
   "execution_count": 4,
   "metadata": {},
   "outputs": [],
   "source": [
    "daveNES.load_program(p_first)\n",
    "daveNES.reset()"
   ]
  },
  {
   "cell_type": "code",
   "execution_count": 7,
   "metadata": {},
   "outputs": [
    {
     "name": "stdout",
     "output_type": "stream",
     "text": [
      "A: 0x0, PC: 0x8000, SP: 0xfd\n",
      "LDA\n",
      "A: 0x1, PC: 0x8002, SP: 0xfd\n",
      "STA\n",
      "A: 0x1, PC: 0x8005, SP: 0xfd\n",
      "LDA\n",
      "A: 0x5, PC: 0x8007, SP: 0xfd\n",
      "STA\n",
      "A: 0x5, PC: 0x800a, SP: 0xfd\n",
      "LDA\n",
      "A: 0x8, PC: 0x800c, SP: 0xfd\n",
      "STA\n",
      "A: 0x8, PC: 0x800f, SP: 0xfd\n",
      "BRK\n",
      "[1 5 8 0 0]\n"
     ]
    }
   ],
   "source": [
    "daveNES.run_program()\n",
    "print(daveNES.ram.memory[0x0200: 0x0205])\n",
    "daveNES.reset()"
   ]
  },
  {
   "cell_type": "code",
   "execution_count": 6,
   "metadata": {},
   "outputs": [
    {
     "data": {
      "text/plain": [
       "0"
      ]
     },
     "execution_count": 6,
     "metadata": {},
     "output_type": "execute_result"
    }
   ],
   "source": [
    "daveNES.ram.memory[0x0606]"
   ]
  },
  {
   "cell_type": "code",
   "execution_count": null,
   "metadata": {},
   "outputs": [],
   "source": []
  }
 ],
 "metadata": {
  "kernelspec": {
   "display_name": "davenespy310",
   "language": "python",
   "name": "python3"
  },
  "language_info": {
   "codemirror_mode": {
    "name": "ipython",
    "version": 3
   },
   "file_extension": ".py",
   "mimetype": "text/x-python",
   "name": "python",
   "nbconvert_exporter": "python",
   "pygments_lexer": "ipython3",
   "version": "3.10.8"
  },
  "orig_nbformat": 4,
  "vscode": {
   "interpreter": {
    "hash": "e38c9d708ad4e13ce48a5848b9e9f2079bf29403fe5756e7d626cc29b0e14a68"
   }
  }
 },
 "nbformat": 4,
 "nbformat_minor": 2
}
