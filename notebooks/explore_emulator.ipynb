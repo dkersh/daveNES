{
 "cells": [
  {
   "cell_type": "code",
   "execution_count": 1,
   "metadata": {},
   "outputs": [],
   "source": [
    "import numpy as np\n",
    "import sys\n",
    "\n",
    "sys.path.append('../src')\n",
    "\n",
    "import cpu\n",
    "import program\n",
    "import importlib\n",
    "cpu = importlib.reload(cpu)\n",
    "program = importlib.reload(program)\n",
    "\n",
    "p = program.Program.from_file('../programs/initial_program.txt')\n",
    "p_snake = program.Program.from_file('../programs/snake_game.txt')\n",
    "p_first = program.Program.from_file('../programs/first_program.txt')\n",
    "p_2 = program.Program.from_file('../programs/program2.txt')\n",
    "p_branch = program.Program.from_file('../programs/branch_program.txt')\n",
    "p = program.Program.from_array(np.array(['a9', 'c0', 'aa', 'e8', '69', 'c4', '00']))\n",
    "p_push = program.Program.from_array(np.array(['a2', '00', 'a0', '00', '8a', '99', '00', '02', '48', 'e8', 'c8', 'c0', '10', 'd0', 'f5', '68', '99', '00', '02', 'c8', 'c0', '20', 'd0', 'f7']))\n",
    "p_pull = program.Program.from_array(np.array(['99', '00', '02', 'c8', 'c0', '20', 'd0', 'f7']))\n",
    "p_jump = program.Program.from_file('../programs/jump_program.txt')\n",
    "p_jsr_rts = program.Program.from_file('../programs/jsr_rts.txt')"
   ]
  },
  {
   "cell_type": "code",
   "execution_count": 2,
   "metadata": {},
   "outputs": [],
   "source": [
    "# Initialise CPU\n",
    "daveNES = cpu.MOS6502(debug = False)\n",
    "daveNES.initialise_RAM()"
   ]
  },
  {
   "cell_type": "code",
   "execution_count": 3,
   "metadata": {},
   "outputs": [],
   "source": [
    "daveNES.load_program(p_snake)\n",
    "daveNES.reset()"
   ]
  },
  {
   "cell_type": "code",
   "execution_count": 4,
   "metadata": {},
   "outputs": [
    {
     "name": "stdout",
     "output_type": "stream",
     "text": [
      "PC: 0x0600, SP: 0xff, A: 0x00, X: 0x00, Y: 0x00, [0, 0, 1, 1, 0, 0, 0, 0]\n",
      "0x20, JSR\n",
      "PC: 0x0606, SP: 0xfd, A: 0x00, X: 0x00, Y: 0x00, [0, 0, 1, 1, 0, 0, 0, 0]\n",
      "0x20, JSR\n",
      "PC: 0x060d, SP: 0xfb, A: 0x00, X: 0x00, Y: 0x00, [0, 0, 1, 1, 0, 0, 0, 0]\n",
      "0xa9, LDA\n",
      "PC: 0x060f, SP: 0xfb, A: 0x02, X: 0x00, Y: 0x00, [0, 0, 1, 1, 0, 0, 0, 0]\n",
      "0x85, STA\n",
      "PC: 0x0611, SP: 0xfb, A: 0x02, X: 0x00, Y: 0x00, [0, 0, 1, 1, 0, 0, 0, 0]\n",
      "0xa9, LDA\n",
      "PC: 0x0613, SP: 0xfb, A: 0x04, X: 0x00, Y: 0x00, [0, 0, 1, 1, 0, 0, 0, 0]\n",
      "0x85, STA\n",
      "PC: 0x0615, SP: 0xfb, A: 0x04, X: 0x00, Y: 0x00, [0, 0, 1, 1, 0, 0, 0, 0]\n",
      "0xa9, LDA\n",
      "PC: 0x0617, SP: 0xfb, A: 0x11, X: 0x00, Y: 0x00, [0, 0, 1, 1, 0, 0, 0, 0]\n",
      "0x85, STA\n",
      "PC: 0x0619, SP: 0xfb, A: 0x11, X: 0x00, Y: 0x00, [0, 0, 1, 1, 0, 0, 0, 0]\n",
      "0xa9, LDA\n",
      "PC: 0x061b, SP: 0xfb, A: 0x10, X: 0x00, Y: 0x00, [0, 0, 1, 1, 0, 0, 0, 0]\n",
      "0x85, STA\n",
      "PC: 0x061d, SP: 0xfb, A: 0x10, X: 0x00, Y: 0x00, [0, 0, 1, 1, 0, 0, 0, 0]\n",
      "0xa9, LDA\n",
      "PC: 0x061f, SP: 0xfb, A: 0x0f, X: 0x00, Y: 0x00, [0, 0, 1, 1, 0, 0, 0, 0]\n",
      "0x85, STA\n",
      "PC: 0x0621, SP: 0xfb, A: 0x0f, X: 0x00, Y: 0x00, [0, 0, 1, 1, 0, 0, 0, 0]\n",
      "0xa9, LDA\n",
      "PC: 0x0623, SP: 0xfb, A: 0x04, X: 0x00, Y: 0x00, [0, 0, 1, 1, 0, 0, 0, 0]\n",
      "0x85, STA\n",
      "PC: 0x0625, SP: 0xfb, A: 0x04, X: 0x00, Y: 0x00, [0, 0, 1, 1, 0, 0, 0, 0]\n",
      "0x85, STA\n",
      "PC: 0x0627, SP: 0xfb, A: 0x04, X: 0x00, Y: 0x00, [0, 0, 1, 1, 0, 0, 0, 0]\n",
      "0x85, STA\n",
      "PC: 0x0629, SP: 0xfb, A: 0x04, X: 0x00, Y: 0x00, [0, 0, 1, 1, 0, 0, 0, 0]\n",
      "0x60, RTS\n",
      "PC: 0x0609, SP: 0xfd, A: 0x04, X: 0x00, Y: 0x00, [0, 0, 1, 1, 0, 0, 0, 0]\n",
      "0x20, JSR\n",
      "PC: 0x062a, SP: 0xfb, A: 0x04, X: 0x00, Y: 0x00, [0, 0, 1, 1, 0, 0, 0, 0]\n",
      "0xa5, LDA\n",
      "PC: 0x062c, SP: 0xfb, A: 0x0d, X: 0x00, Y: 0x00, [0, 0, 1, 1, 0, 0, 0, 0]\n",
      "0x85, STA\n",
      "PC: 0x062e, SP: 0xfb, A: 0x0d, X: 0x00, Y: 0x00, [0, 0, 1, 1, 0, 0, 0, 0]\n",
      "0xa5, LDA\n",
      "PC: 0x0630, SP: 0xfb, A: 0x0d, X: 0x00, Y: 0x00, [0, 0, 1, 1, 0, 0, 0, 0]\n",
      "0x29, AND\n",
      "PC: 0x0632, SP: 0xfb, A: 0x01, X: 0x00, Y: 0x00, [0, 0, 1, 1, 0, 0, 0, 0]\n",
      "0x18, CLC\n",
      "PC: 0x0633, SP: 0xfb, A: 0x01, X: 0x00, Y: 0x00, [0, 0, 1, 1, 0, 0, 0, 0]\n",
      "0x69, ADC\n",
      "PC: 0x0635, SP: 0xfb, A: 0x03, X: 0x00, Y: 0x00, [0, 0, 1, 1, 0, 0, 0, 0]\n",
      "0x85, STA\n",
      "PC: 0x0637, SP: 0xfb, A: 0x03, X: 0x00, Y: 0x00, [0, 0, 1, 1, 0, 0, 0, 0]\n",
      "0x60, RTS\n",
      "PC: 0x060c, SP: 0xfd, A: 0x03, X: 0x00, Y: 0x00, [0, 0, 1, 1, 0, 0, 0, 0]\n",
      "0x60, RTS\n",
      "PC: 0x0603, SP: 0xff, A: 0x03, X: 0x00, Y: 0x00, [0, 0, 1, 1, 0, 0, 0, 0]\n",
      "0x20, JSR\n",
      "PC: 0x0638, SP: 0xfd, A: 0x03, X: 0x00, Y: 0x00, [0, 0, 1, 1, 0, 0, 0, 0]\n",
      "0x20, JSR\n",
      "PC: 0x064d, SP: 0xfb, A: 0x03, X: 0x00, Y: 0x00, [0, 0, 1, 1, 0, 0, 0, 0]\n",
      "0xa5, LDA\n",
      "PC: 0x064f, SP: 0xfb, A: 0x00, X: 0x00, Y: 0x00, [0, 0, 1, 1, 0, 0, 1, 0]\n",
      "0xc9, CMP\n"
     ]
    }
   ],
   "source": [
    "daveNES.run_program()\n",
    "#daveNES.ram.visualise_memory()\n",
    "#print(daveNES.ram.memory[0x0200: 0x0205])\n",
    "daveNES.reset()"
   ]
  },
  {
   "cell_type": "code",
   "execution_count": null,
   "metadata": {},
   "outputs": [],
   "source": [
    "type(daveNES.r_program_counter)"
   ]
  },
  {
   "cell_type": "code",
   "execution_count": null,
   "metadata": {},
   "outputs": [],
   "source": [
    "daveNES.ram.visualise_memory()"
   ]
  }
 ],
 "metadata": {
  "kernelspec": {
   "display_name": "davenespy310",
   "language": "python",
   "name": "python3"
  },
  "language_info": {
   "codemirror_mode": {
    "name": "ipython",
    "version": 3
   },
   "file_extension": ".py",
   "mimetype": "text/x-python",
   "name": "python",
   "nbconvert_exporter": "python",
   "pygments_lexer": "ipython3",
   "version": "3.10.8"
  },
  "orig_nbformat": 4,
  "vscode": {
   "interpreter": {
    "hash": "e38c9d708ad4e13ce48a5848b9e9f2079bf29403fe5756e7d626cc29b0e14a68"
   }
  }
 },
 "nbformat": 4,
 "nbformat_minor": 2
}
