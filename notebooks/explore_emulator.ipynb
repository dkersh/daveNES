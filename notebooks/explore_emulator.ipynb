{
 "cells": [
  {
   "cell_type": "code",
   "execution_count": 1,
   "metadata": {},
   "outputs": [],
   "source": [
    "import numpy as np\n",
    "import sys\n",
    "\n",
    "sys.path.append('../src')\n",
    "\n",
    "import cpu\n",
    "import program\n",
    "import importlib\n",
    "cpu = importlib.reload(cpu)\n",
    "program = importlib.reload(program)\n",
    "\n",
    "daveNES = cpu.MOS6502()\n",
    "p = program.Program.from_file('../src/initial_program.txt')\n",
    "#p = program.Program.from_array(np.array(['a9', 'c1', '00']))"
   ]
  },
  {
   "cell_type": "code",
   "execution_count": 2,
   "metadata": {},
   "outputs": [
    {
     "name": "stdout",
     "output_type": "stream",
     "text": [
      "0xa9\n",
      "0xaa\n",
      "0xe8\n",
      "0x0\n",
      "Exiting Program\n"
     ]
    }
   ],
   "source": [
    "daveNES.run_program(p)"
   ]
  },
  {
   "cell_type": "code",
   "execution_count": 3,
   "metadata": {},
   "outputs": [
    {
     "data": {
      "text/plain": [
       "20480"
      ]
     },
     "execution_count": 3,
     "metadata": {},
     "output_type": "execute_result"
    }
   ],
   "source": [
    "lo = np.uint16(00)\n",
    "hi = np.uint16(80)\n",
    "\n",
    "hi << 8 | lo"
   ]
  },
  {
   "cell_type": "code",
   "execution_count": 4,
   "metadata": {},
   "outputs": [
    {
     "data": {
      "text/plain": [
       "20480"
      ]
     },
     "execution_count": 4,
     "metadata": {},
     "output_type": "execute_result"
    }
   ],
   "source": [
    "(hi << 8) | lo"
   ]
  },
  {
   "cell_type": "code",
   "execution_count": 5,
   "metadata": {},
   "outputs": [],
   "source": [
    "from cpu import Memory\n",
    "\n",
    "ram = Memory()"
   ]
  },
  {
   "cell_type": "code",
   "execution_count": 6,
   "metadata": {},
   "outputs": [
    {
     "data": {
      "text/plain": [
       "32768"
      ]
     },
     "execution_count": 6,
     "metadata": {},
     "output_type": "execute_result"
    }
   ],
   "source": [
    "ram.load_program(p)"
   ]
  },
  {
   "cell_type": "code",
   "execution_count": 7,
   "metadata": {},
   "outputs": [
    {
     "data": {
      "text/plain": [
       "True"
      ]
     },
     "execution_count": 7,
     "metadata": {},
     "output_type": "execute_result"
    }
   ],
   "source": [
    "ram.write_u16(0x8000+1, 0xABFF)"
   ]
  },
  {
   "cell_type": "code",
   "execution_count": 8,
   "metadata": {},
   "outputs": [
    {
     "data": {
      "text/plain": [
       "44031"
      ]
     },
     "execution_count": 8,
     "metadata": {},
     "output_type": "execute_result"
    }
   ],
   "source": [
    "ram.read_u16(0x8000+1)"
   ]
  }
 ],
 "metadata": {
  "kernelspec": {
   "display_name": "davenespy310",
   "language": "python",
   "name": "python3"
  },
  "language_info": {
   "codemirror_mode": {
    "name": "ipython",
    "version": 3
   },
   "file_extension": ".py",
   "mimetype": "text/x-python",
   "name": "python",
   "nbconvert_exporter": "python",
   "pygments_lexer": "ipython3",
   "version": "3.10.8"
  },
  "orig_nbformat": 4,
  "vscode": {
   "interpreter": {
    "hash": "e38c9d708ad4e13ce48a5848b9e9f2079bf29403fe5756e7d626cc29b0e14a68"
   }
  }
 },
 "nbformat": 4,
 "nbformat_minor": 2
}
