{
 "cells": [
  {
   "cell_type": "code",
   "execution_count": 10,
   "metadata": {},
   "outputs": [],
   "source": [
    "import numpy as np\n",
    "import sys\n",
    "\n",
    "sys.path.append('../src')\n",
    "\n",
    "import cpu\n",
    "import program\n",
    "import importlib\n",
    "cpu = importlib.reload(cpu)\n",
    "program = importlib.reload(program)\n",
    "\n",
    "p = program.Program.from_file('../src/initial_program.txt')\n",
    "p_snake = program.Program.from_file('../src/snake_game.txt')\n",
    "p_first = program.Program.from_file('../src/first_program.txt')\n",
    "#p = program.Program.from_array(np.array(['a9', 'c1', '00']))"
   ]
  },
  {
   "cell_type": "code",
   "execution_count": 11,
   "metadata": {},
   "outputs": [
    {
     "data": {
      "text/plain": [
       "array([ 32,   6,   6,  32,  56,   6,  32,  13,   6,  32,  42,   6,  96,\n",
       "       169,   2, 133,   2, 169,   4, 133,   3, 169,  17, 133,  16, 169,\n",
       "        16, 133,  18, 169,  15, 133,  20, 169,   4, 133,  17, 133,  19,\n",
       "       133,  21,  96, 165, 254, 133,   0, 165, 254,  41,   3,  24, 105,\n",
       "         2, 133,   1,  96,  32,  77,   6,  32, 141,   6,  32, 195,   6,\n",
       "        32,  25,   7,  32,  32,   7,  32,  45,   7,  76,  56,   6, 165,\n",
       "       255, 201, 119, 240,  13, 201, 100, 240,  20, 201, 115, 240,  27,\n",
       "       201,  97, 240,  34,  96, 169,   4,  36,   2, 208,  38, 169,   1,\n",
       "       133,   2,  96, 169,   8,  36,   2, 208,  27, 169,   2, 133,   2,\n",
       "        96, 169,   1,  36,   2, 208,  16, 169,   4, 133,   2,  96, 169,\n",
       "         2,  36,   2, 208,   5, 169,   8, 133,   2,  96,  96,  32, 148,\n",
       "         6,  32, 168,   6,  96, 165,   0, 197,  16, 208,  13, 165,   1,\n",
       "       197,  17, 208,   7, 230,   3, 230,   3,  32,  42,   6,  96, 162,\n",
       "         2, 181,  16, 197,  16, 208,   6, 181,  17, 197,  17, 240,   9,\n",
       "       232, 232, 228,   3, 240,   6,  76, 170,   6,  76,  53,   7,  96,\n",
       "       166,   3, 202, 138, 181,  16, 149,  18, 202,  16, 249, 165,   2,\n",
       "        74, 176,   9,  74, 176,  25,  74, 176,  31,  74, 176,  47, 165,\n",
       "        16,  56, 233,  32, 133,  16, 144,   1,  96, 198,  17, 169,   1,\n",
       "       197,  17, 240,  40,  96, 230,  16, 169,  31,  36,  16, 240,  31,\n",
       "        96, 165,  16,  24, 105,  32, 133,  16, 176,   1,  96, 230,  17,\n",
       "       169,   6, 197,  17, 240,  12,  96, 198,  16, 165,  16,  41,  31,\n",
       "       201,  31, 240,   1,  96,  76,  53,   7, 160,   0, 165, 254, 145,\n",
       "         0,  96, 166,   3, 169,   0, 129,  16, 162,   0, 169,   1, 129,\n",
       "        16,  96, 162,   0, 234, 234, 202, 208, 251,  96], dtype=uint8)"
      ]
     },
     "execution_count": 11,
     "metadata": {},
     "output_type": "execute_result"
    }
   ],
   "source": [
    "p_snake.program"
   ]
  },
  {
   "cell_type": "code",
   "execution_count": 12,
   "metadata": {},
   "outputs": [],
   "source": [
    "# Initialise CPU\n",
    "daveNES = cpu.MOS6502()\n",
    "daveNES.initialise_RAM()\n"
   ]
  },
  {
   "cell_type": "code",
   "execution_count": 14,
   "metadata": {},
   "outputs": [],
   "source": [
    "daveNES.load_program(p_snake)\n",
    "daveNES.reset()"
   ]
  },
  {
   "cell_type": "code",
   "execution_count": 15,
   "metadata": {},
   "outputs": [
    {
     "name": "stdout",
     "output_type": "stream",
     "text": [
      "0x20\n",
      "PC: 0x8000, SP: 0xfd\n",
      "0x0\n",
      "PC: 0x606, SP: 0xff\n",
      "0\n",
      "255\n"
     ]
    }
   ],
   "source": [
    "daveNES.run_program()\n",
    "print(daveNES.r_accumulator)\n",
    "print(daveNES.r_stack_pointer)\n",
    "daveNES.reset()"
   ]
  },
  {
   "cell_type": "code",
   "execution_count": 6,
   "metadata": {},
   "outputs": [
    {
     "data": {
      "text/plain": [
       "0"
      ]
     },
     "execution_count": 6,
     "metadata": {},
     "output_type": "execute_result"
    }
   ],
   "source": [
    "daveNES.ram.memory[0x0606]"
   ]
  },
  {
   "cell_type": "code",
   "execution_count": null,
   "metadata": {},
   "outputs": [],
   "source": []
  }
 ],
 "metadata": {
  "kernelspec": {
   "display_name": "davenespy310",
   "language": "python",
   "name": "python3"
  },
  "language_info": {
   "codemirror_mode": {
    "name": "ipython",
    "version": 3
   },
   "file_extension": ".py",
   "mimetype": "text/x-python",
   "name": "python",
   "nbconvert_exporter": "python",
   "pygments_lexer": "ipython3",
   "version": "3.10.8"
  },
  "orig_nbformat": 4,
  "vscode": {
   "interpreter": {
    "hash": "e38c9d708ad4e13ce48a5848b9e9f2079bf29403fe5756e7d626cc29b0e14a68"
   }
  }
 },
 "nbformat": 4,
 "nbformat_minor": 2
}
