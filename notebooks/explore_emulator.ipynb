{
 "cells": [
  {
   "cell_type": "code",
   "execution_count": 1,
   "metadata": {},
   "outputs": [],
   "source": [
    "import numpy as np\n",
    "import sys\n",
    "\n",
    "sys.path.append('../src')\n",
    "\n",
    "import cpu\n",
    "import program\n",
    "import importlib\n",
    "cpu = importlib.reload(cpu)\n",
    "program = importlib.reload(program)\n",
    "\n",
    "p = program.Program.from_file('../src/initial_program.txt')\n",
    "p_snake = program.Program.from_file('../src/snake_game.txt')\n",
    "p_first = program.Program.from_file('../src/first_program.txt')\n",
    "p_2 = program.Program.from_file('../src/program2.txt')\n",
    "p_branch = program.Program.from_file('../src/branch_program.txt')\n",
    "p = program.Program.from_array(np.array(['a9', 'c0', 'aa', 'e8', '69', 'c4', '00']))"
   ]
  },
  {
   "cell_type": "code",
   "execution_count": 2,
   "metadata": {},
   "outputs": [],
   "source": [
    "# Initialise CPU\n",
    "daveNES = cpu.MOS6502(debug = False)\n",
    "daveNES.initialise_RAM()\n"
   ]
  },
  {
   "cell_type": "code",
   "execution_count": 78,
   "metadata": {},
   "outputs": [],
   "source": [
    "daveNES.load_program(p_first)\n",
    "daveNES.reset()"
   ]
  },
  {
   "cell_type": "code",
   "execution_count": 79,
   "metadata": {},
   "outputs": [
    {
     "name": "stdout",
     "output_type": "stream",
     "text": [
      "LDA\n",
      "PC: 0x8000, SP: 0xfd, A: 0x0, X: 0x0, Y: 0x0\n",
      "STA\n",
      "PC: 0x8002, SP: 0xfd, A: 0x1, X: 0x0, Y: 0x0\n",
      "LDA\n",
      "PC: 0x8005, SP: 0xfd, A: 0x1, X: 0x0, Y: 0x0\n",
      "STA\n",
      "PC: 0x8007, SP: 0xfd, A: 0x5, X: 0x0, Y: 0x0\n",
      "LDA\n",
      "PC: 0x800a, SP: 0xfd, A: 0x5, X: 0x0, Y: 0x0\n",
      "STA\n",
      "PC: 0x800c, SP: 0xfd, A: 0x8, X: 0x0, Y: 0x0\n",
      "BRK\n",
      "PC: 0x800f, SP: 0xfd, A: 0x8, X: 0x0, Y: 0x0\n"
     ]
    }
   ],
   "source": [
    "daveNES.run_program()\n",
    "daveNES.ram.visualise_memory()\n",
    "#print(daveNES.ram.memory[0x0200: 0x0205])\n",
    "daveNES.reset()"
   ]
  },
  {
   "cell_type": "code",
   "execution_count": 80,
   "metadata": {},
   "outputs": [],
   "source": [
    "display = np.zeros((32, 32))\n",
    "xx, yy = np.meshgrid(range(32), range(32))\n",
    "for i in range(0x0200, 0x05ff+1):\n",
    "    ind = i-0x0200\n",
    "    x, y = xx.ravel()[ind], yy.ravel()[ind]\n",
    "    display[y, x] = daveNES.ram.memory[i]"
   ]
  },
  {
   "cell_type": "code",
   "execution_count": 81,
   "metadata": {},
   "outputs": [
    {
     "data": {
      "image/png": "[encoded data removed]",
      "text/plain": [
       "<Figure size 640x480 with 1 Axes>"
      ]
     },
     "metadata": {},
     "output_type": "display_data"
    }
   ],
   "source": [
    "import matplotlib.pyplot as plt\n",
    "\n",
    "plt.figure()\n",
    "plt.imshow(display)\n",
    "plt.show()"
   ]
  },
  {
   "cell_type": "code",
   "execution_count": null,
   "metadata": {},
   "outputs": [],
   "source": []
  }
 ],
 "metadata": {
  "kernelspec": {
   "display_name": "py310_davenes",
   "language": "python",
   "name": "python3"
  },
  "language_info": {
   "codemirror_mode": {
    "name": "ipython",
    "version": 3
   },
   "file_extension": ".py",
   "mimetype": "text/x-python",
   "name": "python",
   "nbconvert_exporter": "python",
   "pygments_lexer": "ipython3",
   "version": "3.10.8"
  },
  "orig_nbformat": 4,
  "vscode": {
   "interpreter": {
    "hash": "e16483dc8fb9e36847e4a532e5de93b2b015369ba92d8084babcbd1a0ba583f8"
   }
  }
 },
 "nbformat": 4,
 "nbformat_minor": 2
}
