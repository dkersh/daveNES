{
 "cells": [
  {
   "cell_type": "code",
   "execution_count": 1,
   "metadata": {},
   "outputs": [
    {
     "name": "stdout",
     "output_type": "stream",
     "text": [
      "pygame 2.5.0 (SDL 2.28.0, Python 3.10.8)\n",
      "Hello from the pygame community. https://www.pygame.org/contribute.html\n"
     ]
    }
   ],
   "source": [
    "import numpy as np\n",
    "import sys\n",
    "\n",
    "sys.path.append('../src')\n",
    "\n",
    "import cpu\n",
    "import program\n",
    "import importlib\n",
    "cpu = importlib.reload(cpu)\n",
    "program = importlib.reload(program)\n",
    "\n",
    "p = program.Program.from_file('../programs/initial_program.txt')\n",
    "p_snake = program.Program.from_file('../programs/snake_game.txt')\n",
    "p_first = program.Program.from_file('../programs/first_program.txt')\n",
    "p_2 = program.Program.from_file('../programs/program2.txt')\n",
    "p_branch = program.Program.from_file('../programs/branch_program.txt')\n",
    "p = program.Program.from_array(np.array(['a9', 'c0', 'aa', 'e8', '69', 'c4', '00']))\n",
    "p_push = program.Program.from_array(np.array(['a2', '00', 'a0', '00', '8a', '99', '00', '02', '48', 'e8', 'c8', 'c0', '10', 'd0', 'f5', '68', '99', '00', '02', 'c8', 'c0', '20', 'd0', 'f7']))\n",
    "p_pull = program.Program.from_array(np.array(['99', '00', '02', 'c8', 'c0', '20', 'd0', 'f7']))\n",
    "p_jump = program.Program.from_file('../programs/jump_program.txt')\n",
    "p_jsr_rts = program.Program.from_file('../programs/jsr_rts.txt')"
   ]
  },
  {
   "cell_type": "code",
   "execution_count": 2,
   "metadata": {},
   "outputs": [],
   "source": [
    "# Initialise CPU\n",
    "#from cpu import cpu\n",
    "daveNES = cpu.MOS6502(debug = False)\n",
    "daveNES.connect_to_bus()"
   ]
  },
  {
   "cell_type": "code",
   "execution_count": 3,
   "metadata": {},
   "outputs": [],
   "source": [
    "daveNES.load_program(p_snake)\n",
    "daveNES.reset()"
   ]
  },
  {
   "cell_type": "code",
   "execution_count": 4,
   "metadata": {},
   "outputs": [
    {
     "name": "stderr",
     "output_type": "stream",
     "text": [
      "/Users/davidkersh/Documents/Other_Work/Coding/daveNES/notebooks/../src/cpu/opcodes.py:298: RuntimeWarning: overflow encountered in scalar subtract\n",
      "  result = np.uint8(self.cpu.r_accumulator) - value\n",
      "/Users/davidkersh/Documents/Other_Work/Coding/daveNES/notebooks/../src/cpu/opcodes.py:335: RuntimeWarning: overflow encountered in scalar subtract\n",
      "  self.cpu.r_index_X -= np.uint8(1)\n"
     ]
    },
    {
     "name": "stdout",
     "output_type": "stream",
     "text": [
      "UP PRESSED\n",
      "RIGHT PRESSED\n",
      "DOWN PRESSED\n",
      "RIGHT PRESSED\n",
      "DOWN PRESSED\n",
      "RIGHT PRESSED\n",
      "UP PRESSED\n"
     ]
    },
    {
     "name": "stderr",
     "output_type": "stream",
     "text": [
      "/Users/davidkersh/Documents/Other_Work/Coding/daveNES/notebooks/../src/cpu/opcodes.py:310: RuntimeWarning: overflow encountered in scalar subtract\n",
      "  result = np.uint8(self.cpu.r_index_X) - value\n"
     ]
    },
    {
     "name": "stdout",
     "output_type": "stream",
     "text": [
      "RIGHT PRESSED\n",
      "DOWN PRESSED\n",
      "LEFT PRESSED\n",
      "UP PRESSED\n",
      "LEFT PRESSED\n",
      "DOWN PRESSED\n",
      "LEFT PRESSED\n"
     ]
    },
    {
     "ename": "",
     "evalue": "",
     "output_type": "error",
     "traceback": [
      "\u001b[1;31mThe Kernel crashed while executing code in the the current cell or a previous cell. Please review the code in the cell(s) to identify a possible cause of the failure. Click <a href='https://aka.ms/vscodeJupyterKernelCrash'>here</a> for more info. View Jupyter <a href='command:jupyter.viewOutput'>log</a> for further details."
     ]
    }
   ],
   "source": [
    "daveNES.run_program()\n",
    "#daveNES.ram.visualise_memory()\n",
    "#print(daveNES.ram.memory[0x0200: 0x0205])\n",
    "daveNES.reset()"
   ]
  },
  {
   "cell_type": "code",
   "execution_count": null,
   "metadata": {},
   "outputs": [],
   "source": [
    "r_status = 0b0000_0100"
   ]
  },
  {
   "cell_type": "code",
   "execution_count": null,
   "metadata": {},
   "outputs": [],
   "source": [
    "r_status = r_status & ~(1<<2)"
   ]
  },
  {
   "cell_type": "code",
   "execution_count": null,
   "metadata": {},
   "outputs": [],
   "source": [
    "r_status"
   ]
  },
  {
   "cell_type": "code",
   "execution_count": null,
   "metadata": {},
   "outputs": [],
   "source": [
    "np.uint8(83) + ~(np.uint8(32)) + np.uint8(1)"
   ]
  },
  {
   "cell_type": "code",
   "execution_count": null,
   "metadata": {},
   "outputs": [],
   "source": [
    "np.uint8(0xFE)"
   ]
  },
  {
   "cell_type": "code",
   "execution_count": null,
   "metadata": {},
   "outputs": [],
   "source": [
    "daveNES.ram.visualise_memory()"
   ]
  },
  {
   "cell_type": "code",
   "execution_count": null,
   "metadata": {},
   "outputs": [],
   "source": [
    "0x77"
   ]
  },
  {
   "cell_type": "code",
   "execution_count": null,
   "metadata": {},
   "outputs": [],
   "source": [
    "import pygame\n",
    "import time\n",
    "\n",
    "data = daveNES.ram.memory[0x0200:0x05FF+1]\n",
    "data = np.reshape(data, (32, 32))\n",
    "\n",
    "pygame.init()\n",
    "screen = pygame.display.set_mode((320, 320))\n",
    "\n",
    "surf = pygame.surfarray.make_surface(data)\n",
    "\n",
    "scaled_surf = pygame.transform.scale(surf, (320, 320))\n",
    "\n",
    "screen.blit(scaled_surf, (0, 0))\n",
    "\n",
    "pygame.display.update()\n",
    "\n",
    "running = True\n",
    "while running:\n",
    "    for event in pygame.event.get():\n",
    "        if event.type == pygame.QUIT:\n",
    "            running = False\n",
    "\n",
    "    time.sleep(0.01)\n",
    "pygame.quit()"
   ]
  },
  {
   "cell_type": "code",
   "execution_count": null,
   "metadata": {},
   "outputs": [],
   "source": []
  }
 ],
 "metadata": {
  "kernelspec": {
   "display_name": "davenespy310",
   "language": "python",
   "name": "python3"
  },
  "language_info": {
   "codemirror_mode": {
    "name": "ipython",
    "version": 3
   },
   "file_extension": ".py",
   "mimetype": "text/x-python",
   "name": "python",
   "nbconvert_exporter": "python",
   "pygments_lexer": "ipython3",
   "version": "3.10.8"
  },
  "orig_nbformat": 4,
  "vscode": {
   "interpreter": {
    "hash": "e38c9d708ad4e13ce48a5848b9e9f2079bf29403fe5756e7d626cc29b0e14a68"
   }
  }
 },
 "nbformat": 4,
 "nbformat_minor": 2
}
