{
 "cells": [
  {
   "cell_type": "code",
   "execution_count": 1,
   "metadata": {},
   "outputs": [],
   "source": [
    "import numpy as np\n",
    "import sys\n",
    "\n",
    "sys.path.append('../src')\n",
    "\n",
    "import cpu\n",
    "import program\n",
    "import importlib\n",
    "cpu = importlib.reload(cpu)\n",
    "program = importlib.reload(program)\n",
    "\n",
    "p = program.Program.from_file('../programs/initial_program.txt')\n",
    "p_snake = program.Program.from_file('../programs/snake_game.txt')\n",
    "p_first = program.Program.from_file('../programs/first_program.txt')\n",
    "p_2 = program.Program.from_file('../programs/program2.txt')\n",
    "p_branch = program.Program.from_file('../programs/branch_program.txt')\n",
    "p = program.Program.from_array(np.array(['a9', 'c0', 'aa', 'e8', '69', 'c4', '00']))\n",
    "p_push = program.Program.from_array(np.array(['a2', '00', 'a0', '00', '8a', '99', '00', '02', '48', 'e8', 'c8', 'c0', '10', 'd0', 'f5', '68', '99', '00', '02', 'c8', 'c0', '20', 'd0', 'f7']))\n",
    "p_pull = program.Program.from_array(np.array(['99', '00', '02', 'c8', 'c0', '20', 'd0', 'f7']))\n",
    "p_jump = program.Program.from_file('../programs/jump_program.txt')\n",
    "p_jsr_rts = program.Program.from_file('../programs/jsr_rts.txt')"
   ]
  },
  {
   "cell_type": "code",
   "execution_count": 2,
   "metadata": {},
   "outputs": [],
   "source": [
    "# Initialise CPU\n",
    "daveNES = cpu.MOS6502(debug = False)\n",
    "daveNES.initialise_RAM()"
   ]
  },
  {
   "cell_type": "code",
   "execution_count": 3,
   "metadata": {},
   "outputs": [],
   "source": [
    "daveNES.load_program(p_first)\n",
    "daveNES.reset()"
   ]
  },
  {
   "cell_type": "code",
   "execution_count": 4,
   "metadata": {},
   "outputs": [
    {
     "name": "stdout",
     "output_type": "stream",
     "text": [
      "PC: 0x0600, SP: 0xff, A: 0x00, X: 0x00, Y: 0x00, [0, 0, 0, 0, 0, 0, 0]\n",
      "0xa9, LDA\n",
      "PC: 0x0602, SP: 0xff, A: 0x01, X: 0x00, Y: 0x00, [0, 0, 0, 0, 0, 0, 0]\n",
      "0x8d, STA\n",
      "PC: 0x0605, SP: 0xff, A: 0x01, X: 0x00, Y: 0x00, [0, 0, 0, 0, 0, 0, 0]\n",
      "0xa9, LDA\n",
      "PC: 0x0607, SP: 0xff, A: 0x05, X: 0x00, Y: 0x00, [0, 0, 0, 0, 0, 0, 0]\n",
      "0x8d, STA\n",
      "PC: 0x060a, SP: 0xff, A: 0x05, X: 0x00, Y: 0x00, [0, 0, 0, 0, 0, 0, 0]\n",
      "0xa9, LDA\n",
      "PC: 0x060c, SP: 0xff, A: 0x08, X: 0x00, Y: 0x00, [0, 0, 0, 0, 0, 0, 0]\n",
      "0x8d, STA\n",
      "PC: 0x060f, SP: 0xff, A: 0x08, X: 0x00, Y: 0x00, [0, 0, 0, 0, 0, 0, 0]\n",
      "0x0, BRK\n"
     ]
    }
   ],
   "source": [
    "daveNES.run_program()\n",
    "#daveNES.ram.visualise_memory()\n",
    "#print(daveNES.ram.memory[0x0200: 0x0205])\n",
    "daveNES.reset()"
   ]
  }
 ],
 "metadata": {
  "kernelspec": {
   "display_name": "davenespy310",
   "language": "python",
   "name": "python3"
  },
  "language_info": {
   "codemirror_mode": {
    "name": "ipython",
    "version": 3
   },
   "file_extension": ".py",
   "mimetype": "text/x-python",
   "name": "python",
   "nbconvert_exporter": "python",
   "pygments_lexer": "ipython3",
   "version": "3.10.8 | packaged by conda-forge | (main, Nov 24 2022, 14:07:00) [MSC v.1916 64 bit (AMD64)]"
  },
  "orig_nbformat": 4,
  "vscode": {
   "interpreter": {
    "hash": "e38c9d708ad4e13ce48a5848b9e9f2079bf29403fe5756e7d626cc29b0e14a68"
   }
  }
 },
 "nbformat": 4,
 "nbformat_minor": 2
}
