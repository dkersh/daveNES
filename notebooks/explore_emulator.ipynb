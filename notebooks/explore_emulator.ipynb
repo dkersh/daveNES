{
 "cells": [
  {
   "cell_type": "code",
   "execution_count": 1,
   "metadata": {},
   "outputs": [
    {
     "name": "stdout",
     "output_type": "stream",
     "text": [
      "pygame 2.3.0 (SDL 2.24.2, Python 3.10.8)\n",
      "Hello from the pygame community. https://www.pygame.org/contribute.html\n"
     ]
    }
   ],
   "source": [
    "import numpy as np\n",
    "import sys\n",
    "\n",
    "sys.path.append('../src')\n",
    "\n",
    "import cpu\n",
    "import program\n",
    "import importlib\n",
    "cpu = importlib.reload(cpu)\n",
    "program = importlib.reload(program)\n",
    "\n",
    "p = program.Program.from_file('../programs/initial_program.txt')\n",
    "p_snake = program.Program.from_file('../programs/snake_game.txt')\n",
    "p_first = program.Program.from_file('../programs/first_program.txt')\n",
    "p_2 = program.Program.from_file('../programs/program2.txt')\n",
    "p_branch = program.Program.from_file('../programs/branch_program.txt')\n",
    "p = program.Program.from_array(np.array(['a9', 'c0', 'aa', 'e8', '69', 'c4', '00']))\n",
    "p_push = program.Program.from_array(np.array(['a2', '00', 'a0', '00', '8a', '99', '00', '02', '48', 'e8', 'c8', 'c0', '10', 'd0', 'f5', '68', '99', '00', '02', 'c8', 'c0', '20', 'd0', 'f7']))\n",
    "p_pull = program.Program.from_array(np.array(['99', '00', '02', 'c8', 'c0', '20', 'd0', 'f7']))\n",
    "p_jump = program.Program.from_file('../programs/jump_program.txt')\n",
    "p_jsr_rts = program.Program.from_file('../programs/jsr_rts.txt')"
   ]
  },
  {
   "cell_type": "code",
   "execution_count": 2,
   "metadata": {},
   "outputs": [],
   "source": [
    "# Initialise CPU\n",
    "daveNES = cpu.MOS6502(debug = False)\n",
    "daveNES.initialise_RAM()"
   ]
  },
  {
   "cell_type": "code",
   "execution_count": 3,
   "metadata": {},
   "outputs": [],
   "source": [
    "daveNES.load_program(p_snake)\n",
    "daveNES.reset()"
   ]
  },
  {
   "cell_type": "code",
   "execution_count": 4,
   "metadata": {},
   "outputs": [
    {
     "name": "stderr",
     "output_type": "stream",
     "text": [
      "c:\\Users\\David\\Documents\\Coding\\daveNES\\notebooks\\../src\\cpu.py:546: RuntimeWarning: overflow encountered in ubyte_scalars\n",
      "  result = self.r_accumulator - value\n",
      "c:\\Users\\David\\Documents\\Coding\\daveNES\\notebooks\\../src\\cpu.py:583: RuntimeWarning: overflow encountered in ubyte_scalars\n",
      "  self.r_index_X -= np.uint8(1)\n"
     ]
    },
    {
     "name": "stdout",
     "output_type": "stream",
     "text": [
      "UP PRESSED\n",
      "SBC performed\n",
      "SBC performed\n"
     ]
    },
    {
     "name": "stderr",
     "output_type": "stream",
     "text": [
      "c:\\Users\\David\\Documents\\Coding\\daveNES\\notebooks\\../src\\cpu.py:732: RuntimeWarning: overflow encountered in ubyte_scalars\n",
      "  result = a + (~b + self.r_status['flag_C'])\n"
     ]
    },
    {
     "name": "stdout",
     "output_type": "stream",
     "text": [
      "RIGHT PRESSED\n",
      "DOWN PRESSED\n",
      "DOWN PRESSED\n",
      "DOWN PRESSED\n",
      "DOWN PRESSED\n",
      "DOWN PRESSED\n",
      "DOWN PRESSED\n",
      "DOWN PRESSED\n",
      "RIGHT PRESSED\n",
      "UP PRESSED\n",
      "SBC performed\n",
      "RIGHT PRESSED\n",
      "UP PRESSED\n",
      "RIGHT PRESSED\n",
      "UP PRESSED\n",
      "SBC performed\n"
     ]
    }
   ],
   "source": [
    "daveNES.run_program()\n",
    "#daveNES.ram.visualise_memory()\n",
    "#print(daveNES.ram.memory[0x0200: 0x0205])\n",
    "daveNES.reset()"
   ]
  },
  {
   "cell_type": "code",
   "execution_count": 6,
   "metadata": {},
   "outputs": [
    {
     "data": {
      "text/plain": [
       "0"
      ]
     },
     "execution_count": 6,
     "metadata": {},
     "output_type": "execute_result"
    }
   ],
   "source": [
    "223 & 0x00"
   ]
  },
  {
   "cell_type": "code",
   "execution_count": 8,
   "metadata": {},
   "outputs": [
    {
     "name": "stderr",
     "output_type": "stream",
     "text": [
      "C:\\Users\\David\\AppData\\Local\\Temp\\ipykernel_7752\\548700149.py:1: RuntimeWarning: overflow encountered in ubyte_scalars\n",
      "  np.uint8(83) + ~(np.uint8(32)) + np.uint8(1)\n"
     ]
    },
    {
     "data": {
      "text/plain": [
       "51"
      ]
     },
     "execution_count": 8,
     "metadata": {},
     "output_type": "execute_result"
    }
   ],
   "source": [
    "np.uint8(83) + ~(np.uint8(32)) + np.uint8(1)"
   ]
  },
  {
   "cell_type": "code",
   "execution_count": 9,
   "metadata": {},
   "outputs": [
    {
     "data": {
      "text/plain": [
       "254"
      ]
     },
     "execution_count": 9,
     "metadata": {},
     "output_type": "execute_result"
    }
   ],
   "source": [
    "np.uint8(0xFE)"
   ]
  },
  {
   "cell_type": "code",
   "execution_count": 10,
   "metadata": {},
   "outputs": [
    {
     "data": {
      "image/png": "[encoded data removed]",
      "text/plain": [
       "<Figure size 640x480 with 1 Axes>"
      ]
     },
     "metadata": {},
     "output_type": "display_data"
    }
   ],
   "source": [
    "daveNES.ram.visualise_memory()"
   ]
  },
  {
   "cell_type": "code",
   "execution_count": 11,
   "metadata": {},
   "outputs": [
    {
     "data": {
      "text/plain": [
       "119"
      ]
     },
     "execution_count": 11,
     "metadata": {},
     "output_type": "execute_result"
    }
   ],
   "source": [
    "0x77"
   ]
  },
  {
   "cell_type": "code",
   "execution_count": 12,
   "metadata": {},
   "outputs": [],
   "source": [
    "import pygame\n",
    "import time\n",
    "\n",
    "data = daveNES.ram.memory[0x0200:0x05FF+1]\n",
    "data = np.reshape(data, (32, 32))\n",
    "\n",
    "pygame.init()\n",
    "screen = pygame.display.set_mode((320, 320))\n",
    "\n",
    "surf = pygame.surfarray.make_surface(data)\n",
    "\n",
    "scaled_surf = pygame.transform.scale(surf, (320, 320))\n",
    "\n",
    "screen.blit(scaled_surf, (0, 0))\n",
    "\n",
    "pygame.display.update()\n",
    "\n",
    "running = True\n",
    "while running:\n",
    "    for event in pygame.event.get():\n",
    "        if event.type == pygame.QUIT:\n",
    "            running = False\n",
    "\n",
    "    time.sleep(0.01)\n",
    "pygame.quit()"
   ]
  }
 ],
 "metadata": {
  "kernelspec": {
   "display_name": "davenespy310",
   "language": "python",
   "name": "python3"
  },
  "language_info": {
   "codemirror_mode": {
    "name": "ipython",
    "version": 3
   },
   "file_extension": ".py",
   "mimetype": "text/x-python",
   "name": "python",
   "nbconvert_exporter": "python",
   "pygments_lexer": "ipython3",
   "version": "3.10.8"
  },
  "orig_nbformat": 4,
  "vscode": {
   "interpreter": {
    "hash": "e38c9d708ad4e13ce48a5848b9e9f2079bf29403fe5756e7d626cc29b0e14a68"
   }
  }
 },
 "nbformat": 4,
 "nbformat_minor": 2
}
