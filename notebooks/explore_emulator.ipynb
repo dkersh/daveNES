{
 "cells": [
  {
   "cell_type": "code",
   "execution_count": 74,
   "metadata": {},
   "outputs": [],
   "source": [
    "import numpy as np\n",
    "import sys\n",
    "\n",
    "sys.path.append('../src')\n",
    "\n",
    "import cpu\n",
    "import program\n",
    "import importlib\n",
    "cpu = importlib.reload(cpu)\n",
    "program = importlib.reload(program)\n",
    "\n",
    "p = program.Program.from_file('../src/initial_program.txt')\n",
    "#p = program.Program.from_array(np.array(['a9', 'c1', '00']))"
   ]
  },
  {
   "cell_type": "code",
   "execution_count": 75,
   "metadata": {},
   "outputs": [],
   "source": [
    "# Initialise CPU\n",
    "daveNES = cpu.MOS6502()\n",
    "daveNES.initialise_RAM()\n"
   ]
  },
  {
   "cell_type": "code",
   "execution_count": 76,
   "metadata": {},
   "outputs": [],
   "source": [
    "daveNES.load_program(p)"
   ]
  },
  {
   "cell_type": "code",
   "execution_count": 77,
   "metadata": {},
   "outputs": [
    {
     "name": "stdout",
     "output_type": "stream",
     "text": [
      "0xa9\n",
      "0xc0\n",
      "0x69\n",
      "0xaa\n",
      "0xe8\n",
      "0x0\n",
      "106\n"
     ]
    }
   ],
   "source": [
    "daveNES.run_program()\n",
    "print(daveNES.r_accumulator)\n",
    "#daveNES.reset()"
   ]
  },
  {
   "cell_type": "code",
   "execution_count": 84,
   "metadata": {},
   "outputs": [],
   "source": [
    "flag_C = False\n",
    "flag_Z = False\n",
    "flag_I = False\n",
    "flag_D = False\n",
    "flag_B = False\n",
    "flag_V = False\n",
    "flag_N = False\n",
    "\n",
    "status = [flag_C, flag_Z, flag_I, flag_D, flag_B, flag_V, flag_N]"
   ]
  },
  {
   "cell_type": "code",
   "execution_count": 85,
   "metadata": {},
   "outputs": [
    {
     "data": {
      "text/plain": [
       "[0, 0, 0, 0, 0, 0, 0]"
      ]
     },
     "execution_count": 85,
     "metadata": {},
     "output_type": "execute_result"
    }
   ],
   "source": [
    "status"
   ]
  },
  {
   "cell_type": "code",
   "execution_count": 86,
   "metadata": {},
   "outputs": [],
   "source": [
    "flag_V = 1"
   ]
  }
 ],
 "metadata": {
  "kernelspec": {
   "display_name": "davenespy310",
   "language": "python",
   "name": "python3"
  },
  "language_info": {
   "codemirror_mode": {
    "name": "ipython",
    "version": 3
   },
   "file_extension": ".py",
   "mimetype": "text/x-python",
   "name": "python",
   "nbconvert_exporter": "python",
   "pygments_lexer": "ipython3",
   "version": "3.10.8"
  },
  "orig_nbformat": 4,
  "vscode": {
   "interpreter": {
    "hash": "e38c9d708ad4e13ce48a5848b9e9f2079bf29403fe5756e7d626cc29b0e14a68"
   }
  }
 },
 "nbformat": 4,
 "nbformat_minor": 2
}
